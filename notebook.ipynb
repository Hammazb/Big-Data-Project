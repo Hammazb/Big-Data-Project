{
 "cells": [
  {
   "cell_type": "markdown",
   "id": "5dbef13f",
   "metadata": {},
   "source": [
    "# Section 1: Environment Setup (Local PySpark Setup)"
   ]
  },
  {
   "cell_type": "markdown",
   "id": "a6742668",
   "metadata": {},
   "source": [
    "## Step 1: Environment Setup"
   ]
  },
  {
   "cell_type": "code",
   "execution_count": 2,
   "id": "e0b8560c",
   "metadata": {},
   "outputs": [
    {
     "name": "stdout",
     "output_type": "stream",
     "text": [
      "3.5.5\n"
     ]
    }
   ],
   "source": [
    "from pyspark.sql import SparkSession\n",
    "\n",
    "def create_spark_session():\n",
    "    spark = SparkSession.builder \\\n",
    "        .appName(\"Traffic Crashes Severity Prediction\") \\\n",
    "        .master(\"local[*]\") \\\n",
    "        .config(\"spark.driver.memory\", \"4g\") \\\n",
    "        .config(\"spark.hadoop.hadoop.native.lib\", \"false\") \\\n",
    "        .config(\"spark.sql.parquet.enableVectorizedReader\", \"false\") \\\n",
    "        .getOrCreate()\n",
    "    return spark\n",
    "\n",
    "spark = create_spark_session()\n",
    "\n",
    "print(spark.version)"
   ]
  },
  {
   "cell_type": "markdown",
   "id": "1bb509ff",
   "metadata": {},
   "source": [
    "## Step 2: Loading CSV, Quick Schema and Row Count Check (small EDA) "
   ]
  },
  {
   "cell_type": "code",
   "execution_count": 3,
   "id": "79a26498",
   "metadata": {},
   "outputs": [
    {
     "name": "stdout",
     "output_type": "stream",
     "text": [
      "root\n",
      " |-- CRASH_RECORD_ID: string (nullable = true)\n",
      " |-- CRASH_DATE_EST_I: string (nullable = true)\n",
      " |-- CRASH_DATE: string (nullable = true)\n",
      " |-- POSTED_SPEED_LIMIT: string (nullable = true)\n",
      " |-- TRAFFIC_CONTROL_DEVICE: string (nullable = true)\n",
      " |-- DEVICE_CONDITION: string (nullable = true)\n",
      " |-- WEATHER_CONDITION: string (nullable = true)\n",
      " |-- LIGHTING_CONDITION: string (nullable = true)\n",
      " |-- FIRST_CRASH_TYPE: string (nullable = true)\n",
      " |-- TRAFFICWAY_TYPE: string (nullable = true)\n",
      " |-- LANE_CNT: string (nullable = true)\n",
      " |-- ALIGNMENT: string (nullable = true)\n",
      " |-- ROADWAY_SURFACE_COND: string (nullable = true)\n",
      " |-- ROAD_DEFECT: string (nullable = true)\n",
      " |-- REPORT_TYPE: string (nullable = true)\n",
      " |-- CRASH_TYPE: string (nullable = true)\n",
      " |-- INTERSECTION_RELATED_I: string (nullable = true)\n",
      " |-- NOT_RIGHT_OF_WAY_I: string (nullable = true)\n",
      " |-- HIT_AND_RUN_I: string (nullable = true)\n",
      " |-- DAMAGE: string (nullable = true)\n",
      " |-- DATE_POLICE_NOTIFIED: string (nullable = true)\n",
      " |-- PRIM_CONTRIBUTORY_CAUSE: string (nullable = true)\n",
      " |-- SEC_CONTRIBUTORY_CAUSE: string (nullable = true)\n",
      " |-- STREET_NO: string (nullable = true)\n",
      " |-- STREET_DIRECTION: string (nullable = true)\n",
      " |-- STREET_NAME: string (nullable = true)\n",
      " |-- BEAT_OF_OCCURRENCE: string (nullable = true)\n",
      " |-- PHOTOS_TAKEN_I: string (nullable = true)\n",
      " |-- STATEMENTS_TAKEN_I: string (nullable = true)\n",
      " |-- DOORING_I: string (nullable = true)\n",
      " |-- WORK_ZONE_I: string (nullable = true)\n",
      " |-- WORK_ZONE_TYPE: string (nullable = true)\n",
      " |-- WORKERS_PRESENT_I: string (nullable = true)\n",
      " |-- NUM_UNITS: string (nullable = true)\n",
      " |-- MOST_SEVERE_INJURY: string (nullable = true)\n",
      " |-- INJURIES_TOTAL: string (nullable = true)\n",
      " |-- INJURIES_FATAL: string (nullable = true)\n",
      " |-- INJURIES_INCAPACITATING: string (nullable = true)\n",
      " |-- INJURIES_NON_INCAPACITATING: string (nullable = true)\n",
      " |-- INJURIES_REPORTED_NOT_EVIDENT: string (nullable = true)\n",
      " |-- INJURIES_NO_INDICATION: string (nullable = true)\n",
      " |-- INJURIES_UNKNOWN: string (nullable = true)\n",
      " |-- CRASH_HOUR: string (nullable = true)\n",
      " |-- CRASH_DAY_OF_WEEK: string (nullable = true)\n",
      " |-- CRASH_MONTH: string (nullable = true)\n",
      " |-- LATITUDE: string (nullable = true)\n",
      " |-- LONGITUDE: string (nullable = true)\n",
      " |-- LOCATION: string (nullable = true)\n",
      "\n",
      "root\n",
      " |-- PERSON_ID: string (nullable = true)\n",
      " |-- PERSON_TYPE: string (nullable = true)\n",
      " |-- CRASH_RECORD_ID: string (nullable = true)\n",
      " |-- VEHICLE_ID: string (nullable = true)\n",
      " |-- CRASH_DATE: string (nullable = true)\n",
      " |-- SEAT_NO: string (nullable = true)\n",
      " |-- CITY: string (nullable = true)\n",
      " |-- STATE: string (nullable = true)\n",
      " |-- ZIPCODE: string (nullable = true)\n",
      " |-- SEX: string (nullable = true)\n",
      " |-- AGE: string (nullable = true)\n",
      " |-- DRIVERS_LICENSE_STATE: string (nullable = true)\n",
      " |-- DRIVERS_LICENSE_CLASS: string (nullable = true)\n",
      " |-- SAFETY_EQUIPMENT: string (nullable = true)\n",
      " |-- AIRBAG_DEPLOYED: string (nullable = true)\n",
      " |-- EJECTION: string (nullable = true)\n",
      " |-- INJURY_CLASSIFICATION: string (nullable = true)\n",
      " |-- HOSPITAL: string (nullable = true)\n",
      " |-- EMS_AGENCY: string (nullable = true)\n",
      " |-- EMS_RUN_NO: string (nullable = true)\n",
      " |-- DRIVER_ACTION: string (nullable = true)\n",
      " |-- DRIVER_VISION: string (nullable = true)\n",
      " |-- PHYSICAL_CONDITION: string (nullable = true)\n",
      " |-- PEDPEDAL_ACTION: string (nullable = true)\n",
      " |-- PEDPEDAL_VISIBILITY: string (nullable = true)\n",
      " |-- PEDPEDAL_LOCATION: string (nullable = true)\n",
      " |-- BAC_RESULT: string (nullable = true)\n",
      " |-- BAC_RESULT VALUE: string (nullable = true)\n",
      " |-- CELL_PHONE_USE: string (nullable = true)\n",
      "\n",
      "root\n",
      " |-- CRASH_UNIT_ID: string (nullable = true)\n",
      " |-- CRASH_RECORD_ID: string (nullable = true)\n",
      " |-- CRASH_DATE: string (nullable = true)\n",
      " |-- UNIT_NO: string (nullable = true)\n",
      " |-- UNIT_TYPE: string (nullable = true)\n",
      " |-- NUM_PASSENGERS: string (nullable = true)\n",
      " |-- VEHICLE_ID: string (nullable = true)\n",
      " |-- CMRC_VEH_I: string (nullable = true)\n",
      " |-- MAKE: string (nullable = true)\n",
      " |-- MODEL: string (nullable = true)\n",
      " |-- LIC_PLATE_STATE: string (nullable = true)\n",
      " |-- VEHICLE_YEAR: string (nullable = true)\n",
      " |-- VEHICLE_DEFECT: string (nullable = true)\n",
      " |-- VEHICLE_TYPE: string (nullable = true)\n",
      " |-- VEHICLE_USE: string (nullable = true)\n",
      " |-- TRAVEL_DIRECTION: string (nullable = true)\n",
      " |-- MANEUVER: string (nullable = true)\n",
      " |-- TOWED_I: string (nullable = true)\n",
      " |-- FIRE_I: string (nullable = true)\n",
      " |-- OCCUPANT_CNT: string (nullable = true)\n",
      " |-- EXCEED_SPEED_LIMIT_I: string (nullable = true)\n",
      " |-- TOWED_BY: string (nullable = true)\n",
      " |-- TOWED_TO: string (nullable = true)\n",
      " |-- AREA_00_I: string (nullable = true)\n",
      " |-- AREA_01_I: string (nullable = true)\n",
      " |-- AREA_02_I: string (nullable = true)\n",
      " |-- AREA_03_I: string (nullable = true)\n",
      " |-- AREA_04_I: string (nullable = true)\n",
      " |-- AREA_05_I: string (nullable = true)\n",
      " |-- AREA_06_I: string (nullable = true)\n",
      " |-- AREA_07_I: string (nullable = true)\n",
      " |-- AREA_08_I: string (nullable = true)\n",
      " |-- AREA_09_I: string (nullable = true)\n",
      " |-- AREA_10_I: string (nullable = true)\n",
      " |-- AREA_11_I: string (nullable = true)\n",
      " |-- AREA_12_I: string (nullable = true)\n",
      " |-- AREA_99_I: string (nullable = true)\n",
      " |-- FIRST_CONTACT_POINT: string (nullable = true)\n",
      " |-- CMV_ID: string (nullable = true)\n",
      " |-- USDOT_NO: string (nullable = true)\n",
      " |-- CCMC_NO: string (nullable = true)\n",
      " |-- ILCC_NO: string (nullable = true)\n",
      " |-- COMMERCIAL_SRC: string (nullable = true)\n",
      " |-- GVWR: string (nullable = true)\n",
      " |-- CARRIER_NAME: string (nullable = true)\n",
      " |-- CARRIER_STATE: string (nullable = true)\n",
      " |-- CARRIER_CITY: string (nullable = true)\n",
      " |-- HAZMAT_PLACARDS_I: string (nullable = true)\n",
      " |-- HAZMAT_NAME: string (nullable = true)\n",
      " |-- UN_NO: string (nullable = true)\n",
      " |-- HAZMAT_PRESENT_I: string (nullable = true)\n",
      " |-- HAZMAT_REPORT_I: string (nullable = true)\n",
      " |-- HAZMAT_REPORT_NO: string (nullable = true)\n",
      " |-- MCS_REPORT_I: string (nullable = true)\n",
      " |-- MCS_REPORT_NO: string (nullable = true)\n",
      " |-- HAZMAT_VIO_CAUSE_CRASH_I: string (nullable = true)\n",
      " |-- MCS_VIO_CAUSE_CRASH_I: string (nullable = true)\n",
      " |-- IDOT_PERMIT_NO: string (nullable = true)\n",
      " |-- WIDE_LOAD_I: string (nullable = true)\n",
      " |-- TRAILER1_WIDTH: string (nullable = true)\n",
      " |-- TRAILER2_WIDTH: string (nullable = true)\n",
      " |-- TRAILER1_LENGTH: string (nullable = true)\n",
      " |-- TRAILER2_LENGTH: string (nullable = true)\n",
      " |-- TOTAL_VEHICLE_LENGTH: string (nullable = true)\n",
      " |-- AXLE_CNT: string (nullable = true)\n",
      " |-- VEHICLE_CONFIG: string (nullable = true)\n",
      " |-- CARGO_BODY_TYPE: string (nullable = true)\n",
      " |-- LOAD_TYPE: string (nullable = true)\n",
      " |-- HAZMAT_OUT_OF_SERVICE_I: string (nullable = true)\n",
      " |-- MCS_OUT_OF_SERVICE_I: string (nullable = true)\n",
      " |-- HAZMAT_CLASS: string (nullable = true)\n",
      "\n",
      "Crashes: 938498 rows\n",
      "Vehicles: 2060623 rows\n",
      "People: 1914085 rows\n"
     ]
    }
   ],
   "source": [
    "# Load DataFrames from Local Filesystem\n",
    "crashes = spark.read.option(\"header\", True).csv(r\"Traffic_Crashes_Crashes.csv\")\n",
    "vehicles = spark.read.option(\"header\", True).csv(r\"Traffic_Crashes_People.csv\")\n",
    "people = spark.read.option(\"header\", True).csv(r\"Traffic_Crashes_Vehicles.csv\")\n",
    "\n",
    "# Quick schema validation\n",
    "crashes.printSchema()\n",
    "vehicles.printSchema()\n",
    "people.printSchema()\n",
    "\n",
    "# Check row counts\n",
    "print(f\"Crashes: {crashes.count()} rows\")\n",
    "print(f\"Vehicles: {vehicles.count()} rows\")\n",
    "print(f\"People: {people.count()} rows\")"
   ]
  },
  {
   "cell_type": "markdown",
   "id": "ea06985e",
   "metadata": {},
   "source": [
    "# Section 2: Joining Datasets"
   ]
  },
  {
   "cell_type": "markdown",
   "id": "9ae9aa39",
   "metadata": {},
   "source": [
    "## Step 1: Join the Datasets\n",
    "\n",
    "Before joining, we need to rename or drop duplicate columns like CRASH_DATE from vehicles_df and people_df, because:\n",
    "\n",
    "- crashes_df has the most accurate crash-level date\n",
    "\n",
    "- vehicle and people versions are mostly redundant for our big-picture analysis"
   ]
  },
  {
   "cell_type": "code",
   "execution_count": 4,
   "id": "65506100",
   "metadata": {},
   "outputs": [
    {
     "name": "stdout",
     "output_type": "stream",
     "text": [
      "+--------------------------------------------------------------------------------------------------------------------------------+----------------------+----------------------+---------------------------+-----------+-----------------------+\n",
      "|CRASH_RECORD_ID                                                                                                                 |CRASH_DATE            |CRASH_TYPE            |VEHICLE_TYPE               |PERSON_TYPE|INJURY_CLASSIFICATION  |\n",
      "+--------------------------------------------------------------------------------------------------------------------------------+----------------------+----------------------+---------------------------+-----------+-----------------------+\n",
      "|00002c0771fb6f2c70ba775b7f6b501608cadea85c1dd1343228a53acd61a83b0e2b003ace79defc01b0f829fc47b9462027509b5e0ec1eaf3a5f2248121f379|04/16/2016 05:49:00 AM|NO INJURY / DRIVE AWAY|SPORT UTILITY VEHICLE (SUV)|DRIVER     |NO INDICATION OF INJURY|\n",
      "|000070ed7a6357c3298f5edc6fb7d5ce925a10f46660f37f6c9b02e2a430d38ec739d2a5f45432979a01920c84f4700f6d4d63103a7878169bc1946367e8ee0a|10/24/2016 02:42:00 AM|NO INJURY / DRIVE AWAY|PASSENGER                  |DRIVER     |NO INDICATION OF INJURY|\n",
      "|000070ed7a6357c3298f5edc6fb7d5ce925a10f46660f37f6c9b02e2a430d38ec739d2a5f45432979a01920c84f4700f6d4d63103a7878169bc1946367e8ee0a|10/24/2016 02:42:00 AM|NO INJURY / DRIVE AWAY|PASSENGER                  |DRIVER     |NO INDICATION OF INJURY|\n",
      "|00019665871af0cae1dfd7f00cb06d69acab5809420319b9d2a4293f0efc6c83485b0ce5dba356d33b5493dfebca29e37317e9772e5a74e499d420ce742e4ce6|02/06/2024 01:00:00 PM|NO INJURY / DRIVE AWAY|SPORT UTILITY VEHICLE (SUV)|PASSENGER  |NO INDICATION OF INJURY|\n",
      "|0001bec0d65645a541847c2e6808e8a07ef2100b03d73e376b9b3aaba142bbd37995b0621e899c9f8712fcfcde0d336547f7dc576aef3da501f2e0d1ce9e4dcf|03/08/2019 09:20:00 PM|NO INJURY / DRIVE AWAY|PASSENGER                  |DRIVER     |NO INDICATION OF INJURY|\n",
      "+--------------------------------------------------------------------------------------------------------------------------------+----------------------+----------------------+---------------------------+-----------+-----------------------+\n",
      "only showing top 5 rows\n",
      "\n"
     ]
    }
   ],
   "source": [
    "# Step 1: Drop CRASH_DATE from vehicles and people BEFORE join\n",
    "vehicles_df = vehicles.drop(\"CRASH_DATE\")\n",
    "people_df = people.drop(\"CRASH_DATE\")\n",
    "\n",
    "# Step 2: Join Crashes and Vehicles\n",
    "crash_vehicle_df = crashes.join(\n",
    "    vehicles_df,\n",
    "    on=\"CRASH_RECORD_ID\",\n",
    "    how=\"inner\"\n",
    ")\n",
    "\n",
    "# Step 3: Join Crash-Vehicle with People\n",
    "final_df = crash_vehicle_df.join(\n",
    "    people_df,\n",
    "    on=[\"CRASH_RECORD_ID\", \"VEHICLE_ID\"],\n",
    "    how=\"left\"\n",
    ")\n",
    "\n",
    "# Step 4: Show sample\n",
    "final_df.select(\n",
    "    \"CRASH_RECORD_ID\", \"CRASH_DATE\", \"CRASH_TYPE\", \n",
    "    \"VEHICLE_TYPE\", \"PERSON_TYPE\", \"INJURY_CLASSIFICATION\"\n",
    ").show(5, truncate=False)"
   ]
  },
  {
   "cell_type": "markdown",
   "id": "58e6aa01",
   "metadata": {},
   "source": [
    "# Section 3: Primary EDA (Exploratory Data Analysis)"
   ]
  },
  {
   "cell_type": "markdown",
   "id": "f30859a4",
   "metadata": {},
   "source": [
    "## Step 1: Quick Data Overview"
   ]
  },
  {
   "cell_type": "code",
   "execution_count": 5,
   "id": "7c4c3c8a",
   "metadata": {},
   "outputs": [
    {
     "name": "stdout",
     "output_type": "stream",
     "text": [
      "+--------------------+----------+----------------+--------------------+------------------+----------------------+--------------------+-----------------+--------------------+--------------------+--------------------+--------+------------------+--------------------+-----------+--------------------+--------------------+----------------------+------------------+-------------+-------------+--------------------+-----------------------+----------------------+---------+----------------+--------------+------------------+--------------+------------------+---------+-----------+--------------+-----------------+---------+--------------------+--------------+--------------+-----------------------+---------------------------+-----------------------------+----------------------+----------------+----------+-----------------+-----------+-------------+--------------+--------------------+---------+-----------+-------+--------+-----+-------+---+----+---------------------+---------------------+----------------+------------------+--------+---------------------+--------+----------+----------+--------------------+-------------+------------------+---------------+-------------------+-----------------+----------------+----------------+--------------+-------------+-------+---------+--------------+----------+--------------------+--------+---------------+------------+--------------+--------------------+-----------+----------------+--------------------+-------+------+------------+--------------------+--------+--------+---------+---------+---------+---------+---------+---------+---------+---------+---------+---------+---------+---------+---------+---------+-------------------+------+--------+-------+-------+--------------+----+------------+-------------+------------+-----------------+-----------+-----+----------------+---------------+----------------+------------+-------------+------------------------+---------------------+--------------+-----------+--------------+--------------+---------------+---------------+--------------------+--------+--------------+---------------+---------+-----------------------+--------------------+------------+\n",
      "|     CRASH_RECORD_ID|VEHICLE_ID|CRASH_DATE_EST_I|          CRASH_DATE|POSTED_SPEED_LIMIT|TRAFFIC_CONTROL_DEVICE|    DEVICE_CONDITION|WEATHER_CONDITION|  LIGHTING_CONDITION|    FIRST_CRASH_TYPE|     TRAFFICWAY_TYPE|LANE_CNT|         ALIGNMENT|ROADWAY_SURFACE_COND|ROAD_DEFECT|         REPORT_TYPE|          CRASH_TYPE|INTERSECTION_RELATED_I|NOT_RIGHT_OF_WAY_I|HIT_AND_RUN_I|       DAMAGE|DATE_POLICE_NOTIFIED|PRIM_CONTRIBUTORY_CAUSE|SEC_CONTRIBUTORY_CAUSE|STREET_NO|STREET_DIRECTION|   STREET_NAME|BEAT_OF_OCCURRENCE|PHOTOS_TAKEN_I|STATEMENTS_TAKEN_I|DOORING_I|WORK_ZONE_I|WORK_ZONE_TYPE|WORKERS_PRESENT_I|NUM_UNITS|  MOST_SEVERE_INJURY|INJURIES_TOTAL|INJURIES_FATAL|INJURIES_INCAPACITATING|INJURIES_NON_INCAPACITATING|INJURIES_REPORTED_NOT_EVIDENT|INJURIES_NO_INDICATION|INJURIES_UNKNOWN|CRASH_HOUR|CRASH_DAY_OF_WEEK|CRASH_MONTH|     LATITUDE|     LONGITUDE|            LOCATION|PERSON_ID|PERSON_TYPE|SEAT_NO|    CITY|STATE|ZIPCODE|SEX| AGE|DRIVERS_LICENSE_STATE|DRIVERS_LICENSE_CLASS|SAFETY_EQUIPMENT|   AIRBAG_DEPLOYED|EJECTION|INJURY_CLASSIFICATION|HOSPITAL|EMS_AGENCY|EMS_RUN_NO|       DRIVER_ACTION|DRIVER_VISION|PHYSICAL_CONDITION|PEDPEDAL_ACTION|PEDPEDAL_VISIBILITY|PEDPEDAL_LOCATION|      BAC_RESULT|BAC_RESULT VALUE|CELL_PHONE_USE|CRASH_UNIT_ID|UNIT_NO|UNIT_TYPE|NUM_PASSENGERS|CMRC_VEH_I|                MAKE|   MODEL|LIC_PLATE_STATE|VEHICLE_YEAR|VEHICLE_DEFECT|        VEHICLE_TYPE|VEHICLE_USE|TRAVEL_DIRECTION|            MANEUVER|TOWED_I|FIRE_I|OCCUPANT_CNT|EXCEED_SPEED_LIMIT_I|TOWED_BY|TOWED_TO|AREA_00_I|AREA_01_I|AREA_02_I|AREA_03_I|AREA_04_I|AREA_05_I|AREA_06_I|AREA_07_I|AREA_08_I|AREA_09_I|AREA_10_I|AREA_11_I|AREA_12_I|AREA_99_I|FIRST_CONTACT_POINT|CMV_ID|USDOT_NO|CCMC_NO|ILCC_NO|COMMERCIAL_SRC|GVWR|CARRIER_NAME|CARRIER_STATE|CARRIER_CITY|HAZMAT_PLACARDS_I|HAZMAT_NAME|UN_NO|HAZMAT_PRESENT_I|HAZMAT_REPORT_I|HAZMAT_REPORT_NO|MCS_REPORT_I|MCS_REPORT_NO|HAZMAT_VIO_CAUSE_CRASH_I|MCS_VIO_CAUSE_CRASH_I|IDOT_PERMIT_NO|WIDE_LOAD_I|TRAILER1_WIDTH|TRAILER2_WIDTH|TRAILER1_LENGTH|TRAILER2_LENGTH|TOTAL_VEHICLE_LENGTH|AXLE_CNT|VEHICLE_CONFIG|CARGO_BODY_TYPE|LOAD_TYPE|HAZMAT_OUT_OF_SERVICE_I|MCS_OUT_OF_SERVICE_I|HAZMAT_CLASS|\n",
      "+--------------------+----------+----------------+--------------------+------------------+----------------------+--------------------+-----------------+--------------------+--------------------+--------------------+--------+------------------+--------------------+-----------+--------------------+--------------------+----------------------+------------------+-------------+-------------+--------------------+-----------------------+----------------------+---------+----------------+--------------+------------------+--------------+------------------+---------+-----------+--------------+-----------------+---------+--------------------+--------------+--------------+-----------------------+---------------------------+-----------------------------+----------------------+----------------+----------+-----------------+-----------+-------------+--------------+--------------------+---------+-----------+-------+--------+-----+-------+---+----+---------------------+---------------------+----------------+------------------+--------+---------------------+--------+----------+----------+--------------------+-------------+------------------+---------------+-------------------+-----------------+----------------+----------------+--------------+-------------+-------+---------+--------------+----------+--------------------+--------+---------------+------------+--------------+--------------------+-----------+----------------+--------------------+-------+------+------------+--------------------+--------+--------+---------+---------+---------+---------+---------+---------+---------+---------+---------+---------+---------+---------+---------+---------+-------------------+------+--------+-------+-------+--------------+----+------------+-------------+------------+-----------------+-----------+-----+----------------+---------------+----------------+------------+-------------+------------------------+---------------------+--------------+-----------+--------------+--------------+---------------+---------------+--------------------+--------+--------------+---------------+---------+-----------------------+--------------------+------------+\n",
      "|00002c0771fb6f2c7...|     39524|            NULL|04/16/2016 05:49:...|                30|        TRAFFIC SIGNAL|FUNCTIONING PROPERLY|            CLEAR|                DAWN|SIDESWIPE SAME DI...|               OTHER|       0|STRAIGHT AND LEVEL|                 DRY| NO DEFECTS|NOT ON SCENE (DES...|NO INJURY / DRIVE...|                     Y|              NULL|            Y|  OVER $1,500|04/16/2016 06:30:...|    IMPROPER LANE USAGE|   UNABLE TO DETERMINE|     2556|               S|CALIFORNIA AVE|              1033|          NULL|              NULL|     NULL|       NULL|          NULL|             NULL|        2|NO INDICATION OF ...|             0|             0|                      0|                          0|                            0|                     2|               0|         5|                7|          4|41.8447339387|-87.6953630667|POINT (-87.695363...|   O40893|     DRIVER|   NULL|    NULL| NULL|   NULL|  X|NULL|                 NULL|                 NULL|   USAGE UNKNOWN|DEPLOYMENT UNKNOWN|    NONE| NO INDICATION OF ...|    NULL|      NULL|      NULL|IMPROPER LANE CHANGE|      UNKNOWN|           UNKNOWN|           NULL|               NULL|             NULL|TEST NOT OFFERED|            NULL|          NULL|        40893|      1|   DRIVER|          NULL|      NULL| LINCOLN-CONTINENTAL|     MKZ|             IL|        2007|          NONE|SPORT UTILITY VEH...|   PERSONAL|               S|SLOW/STOP IN TRAFFIC|   NULL|  NULL|           1|                NULL|    NULL|    NULL|     NULL|     NULL|     NULL|     NULL|     NULL|     NULL|     NULL|     NULL|     NULL|     NULL|     NULL|     NULL|     NULL|        Y|        FRONT-RIGHT|  NULL|    NULL|   NULL|   NULL|          NULL|NULL|        NULL|         NULL|        NULL|             NULL|       NULL| NULL|            NULL|           NULL|            NULL|        NULL|         NULL|                    NULL|                 NULL|          NULL|       NULL|          NULL|          NULL|           NULL|           NULL|                NULL|    NULL|          NULL|           NULL|     NULL|                   NULL|                NULL|        NULL|\n",
      "|000070ed7a6357c32...|     86587|            NULL|10/24/2016 02:42:...|                35|           NO CONTROLS|         NO CONTROLS|            CLEAR|DARKNESS, LIGHTED...|SIDESWIPE SAME DI...|DIVIDED - W/MEDIA...|    NULL|STRAIGHT AND LEVEL|                 DRY| NO DEFECTS|            ON SCENE|NO INJURY / DRIVE...|                  NULL|              NULL|         NULL|$501 - $1,500|10/24/2016 02:43:...|   FAILING TO YIELD ...|  DRIVING SKILLS/KN...|      615|               S|CALIFORNIA AVE|              1135|          NULL|              NULL|     NULL|       NULL|          NULL|             NULL|        2|NO INDICATION OF ...|             0|             0|                      0|                          0|                            0|                     2|               0|         2|                2|         10|41.8732720951|-87.6959372352|POINT (-87.695937...|   O89592|     DRIVER|   NULL|  CICERO|   IL|  60804|  M|  50|                   IL|                 NULL|SAFETY BELT USED|    DID NOT DEPLOY|    NONE| NO INDICATION OF ...|    NULL|      NULL|      NULL|     FAILED TO YIELD| NOT OBSCURED|            NORMAL|           NULL|               NULL|             NULL|TEST NOT OFFERED|            NULL|          NULL|        89592|      1|   DRIVER|          NULL|      NULL|           CHEVROLET| VENTURE|             IL|        2002|          NONE|           PASSENGER|   PERSONAL|               N|      STRAIGHT AHEAD|   NULL|  NULL|           1|                NULL|    NULL|    NULL|     NULL|        Y|     NULL|     NULL|     NULL|     NULL|     NULL|     NULL|        Y|     NULL|     NULL|     NULL|     NULL|     NULL|         FRONT-LEFT|  NULL|    NULL|   NULL|   NULL|          NULL|NULL|        NULL|         NULL|        NULL|             NULL|       NULL| NULL|            NULL|           NULL|            NULL|        NULL|         NULL|                    NULL|                 NULL|          NULL|       NULL|          NULL|          NULL|           NULL|           NULL|                NULL|    NULL|          NULL|           NULL|     NULL|                   NULL|                NULL|        NULL|\n",
      "|000070ed7a6357c32...|     86588|            NULL|10/24/2016 02:42:...|                35|           NO CONTROLS|         NO CONTROLS|            CLEAR|DARKNESS, LIGHTED...|SIDESWIPE SAME DI...|DIVIDED - W/MEDIA...|    NULL|STRAIGHT AND LEVEL|                 DRY| NO DEFECTS|            ON SCENE|NO INJURY / DRIVE...|                  NULL|              NULL|         NULL|$501 - $1,500|10/24/2016 02:43:...|   FAILING TO YIELD ...|  DRIVING SKILLS/KN...|      615|               S|CALIFORNIA AVE|              1135|          NULL|              NULL|     NULL|       NULL|          NULL|             NULL|        2|NO INDICATION OF ...|             0|             0|                      0|                          0|                            0|                     2|               0|         2|                2|         10|41.8732720951|-87.6959372352|POINT (-87.695937...|   O89591|     DRIVER|   NULL|OAK PARK|   IL|  60302|  M|  45|                   IL|                    D|SAFETY BELT USED|    NOT APPLICABLE|    NONE| NO INDICATION OF ...|    NULL|      NULL|      NULL|                NONE| NOT OBSCURED|            NORMAL|           NULL|               NULL|             NULL|TEST NOT OFFERED|            NULL|          NULL|        89591|      2|   DRIVER|          NULL|      NULL|                JEEP|CHEROKEE|             IL|        2004|          NONE|           PASSENGER|   PERSONAL|               N|      STRAIGHT AHEAD|   NULL|  NULL|           1|                NULL|    NULL|    NULL|     NULL|     NULL|     NULL|        Y|        Y|     NULL|     NULL|     NULL|     NULL|     NULL|     NULL|     NULL|     NULL|     NULL|         SIDE-RIGHT|  NULL|    NULL|   NULL|   NULL|          NULL|NULL|        NULL|         NULL|        NULL|             NULL|       NULL| NULL|            NULL|           NULL|            NULL|        NULL|         NULL|                    NULL|                 NULL|          NULL|       NULL|          NULL|          NULL|           NULL|           NULL|                NULL|    NULL|          NULL|           NULL|     NULL|                   NULL|                NULL|        NULL|\n",
      "|00019665871af0cae...|   1670697|            NULL|02/06/2024 01:00:...|                30|           NO CONTROLS|         NO CONTROLS|            CLEAR|            DAYLIGHT|PARKED MOTOR VEHICLE|         PARKING LOT|    NULL|STRAIGHT AND LEVEL|                 DRY| NO DEFECTS|NOT ON SCENE (DES...|NO INJURY / DRIVE...|                  NULL|              NULL|            Y|$501 - $1,500|02/06/2024 02:14:...|         NOT APPLICABLE|        NOT APPLICABLE|     4705|               S|    KEDZIE AVE|               922|          NULL|              NULL|     NULL|       NULL|          NULL|             NULL|        2|NO INDICATION OF ...|             0|             0|                      0|                          0|                            0|                     2|               0|        13|                3|          2|41.8079479208|-87.7038214339|POINT (-87.703821...|  P387698|  PASSENGER|      1|    NULL| NULL|   NULL|  M|NULL|                 NULL|                 NULL|SAFETY BELT USED|    DID NOT DEPLOY|    NONE| NO INDICATION OF ...|    NULL|      NULL|      NULL|                NULL|         NULL|              NULL|           NULL|               NULL|             NULL|            NULL|            NULL|          NULL|      1754707|      2|   PARKED|             1|      NULL|               LEXUS|   RX350|             IL|        2015|          NONE|SPORT UTILITY VEH...|   PERSONAL|               E|              PARKED|   NULL|  NULL|           1|                NULL|    NULL|    NULL|     NULL|     NULL|     NULL|     NULL|     NULL|        Y|     NULL|     NULL|     NULL|     NULL|     NULL|     NULL|     NULL|     NULL|  REAR-RIGHT-CORNER|  NULL|    NULL|   NULL|   NULL|          NULL|NULL|        NULL|         NULL|        NULL|             NULL|       NULL| NULL|            NULL|           NULL|            NULL|        NULL|         NULL|                    NULL|                 NULL|          NULL|       NULL|          NULL|          NULL|           NULL|           NULL|                NULL|    NULL|          NULL|           NULL|     NULL|                   NULL|                NULL|        NULL|\n",
      "|0001bec0d65645a54...|    571334|            NULL|03/08/2019 09:20:...|                30|           NO CONTROLS|         NO CONTROLS|            CLEAR|DARKNESS, LIGHTED...|            REAR END|         PARKING LOT|    NULL|STRAIGHT AND LEVEL|                 DRY| NO DEFECTS|NOT ON SCENE (DES...|NO INJURY / DRIVE...|                  NULL|              NULL|         NULL| $500 OR LESS|03/08/2019 09:30:...|    UNABLE TO DETERMINE|        NOT APPLICABLE|     5233|               N|   LINCOLN AVE|              2011|          NULL|              NULL|     NULL|       NULL|          NULL|             NULL|        2|NO INDICATION OF ...|             0|             0|                      0|                          0|                            0|                     2|               0|        21|                6|          3|41.9768950984|-87.6922796678|POINT (-87.692279...|  O599396|     DRIVER|   NULL| CHICAGO|   IL|  60643|  F|  27|                   IL|                    D|    NONE PRESENT|    NOT APPLICABLE|    NONE| NO INDICATION OF ...|    NULL|      NULL|      NULL|                NONE| NOT OBSCURED|            NORMAL|           NULL|               NULL|             NULL|TEST NOT OFFERED|            NULL|          NULL|       599396|      2|   DRIVER|          NULL|      NULL|TOYOTA MOTOR COMP...|   Prius|             IL|        2012|          NONE|           PASSENGER|   PERSONAL|         UNKNOWN|ENTERING TRAFFIC ...|   NULL|  NULL|           1|                NULL|    NULL|    NULL|     NULL|     NULL|     NULL|     NULL|        Y|     NULL|     NULL|     NULL|     NULL|     NULL|     NULL|     NULL|     NULL|     NULL|         REAR-RIGHT|  NULL|    NULL|   NULL|   NULL|          NULL|NULL|        NULL|         NULL|        NULL|             NULL|       NULL| NULL|            NULL|           NULL|            NULL|        NULL|         NULL|                    NULL|                 NULL|          NULL|       NULL|          NULL|          NULL|           NULL|           NULL|                NULL|    NULL|          NULL|           NULL|     NULL|                   NULL|                NULL|        NULL|\n",
      "+--------------------+----------+----------------+--------------------+------------------+----------------------+--------------------+-----------------+--------------------+--------------------+--------------------+--------+------------------+--------------------+-----------+--------------------+--------------------+----------------------+------------------+-------------+-------------+--------------------+-----------------------+----------------------+---------+----------------+--------------+------------------+--------------+------------------+---------+-----------+--------------+-----------------+---------+--------------------+--------------+--------------+-----------------------+---------------------------+-----------------------------+----------------------+----------------+----------+-----------------+-----------+-------------+--------------+--------------------+---------+-----------+-------+--------+-----+-------+---+----+---------------------+---------------------+----------------+------------------+--------+---------------------+--------+----------+----------+--------------------+-------------+------------------+---------------+-------------------+-----------------+----------------+----------------+--------------+-------------+-------+---------+--------------+----------+--------------------+--------+---------------+------------+--------------+--------------------+-----------+----------------+--------------------+-------+------+------------+--------------------+--------+--------+---------+---------+---------+---------+---------+---------+---------+---------+---------+---------+---------+---------+---------+---------+-------------------+------+--------+-------+-------+--------------+----+------------+-------------+------------+-----------------+-----------+-----+----------------+---------------+----------------+------------+-------------+------------------------+---------------------+--------------+-----------+--------------+--------------+---------------+---------------+--------------------+--------+--------------+---------------+---------+-----------------------+--------------------+------------+\n",
      "only showing top 5 rows\n",
      "\n",
      "root\n",
      " |-- CRASH_RECORD_ID: string (nullable = true)\n",
      " |-- VEHICLE_ID: string (nullable = true)\n",
      " |-- CRASH_DATE_EST_I: string (nullable = true)\n",
      " |-- CRASH_DATE: string (nullable = true)\n",
      " |-- POSTED_SPEED_LIMIT: string (nullable = true)\n",
      " |-- TRAFFIC_CONTROL_DEVICE: string (nullable = true)\n",
      " |-- DEVICE_CONDITION: string (nullable = true)\n",
      " |-- WEATHER_CONDITION: string (nullable = true)\n",
      " |-- LIGHTING_CONDITION: string (nullable = true)\n",
      " |-- FIRST_CRASH_TYPE: string (nullable = true)\n",
      " |-- TRAFFICWAY_TYPE: string (nullable = true)\n",
      " |-- LANE_CNT: string (nullable = true)\n",
      " |-- ALIGNMENT: string (nullable = true)\n",
      " |-- ROADWAY_SURFACE_COND: string (nullable = true)\n",
      " |-- ROAD_DEFECT: string (nullable = true)\n",
      " |-- REPORT_TYPE: string (nullable = true)\n",
      " |-- CRASH_TYPE: string (nullable = true)\n",
      " |-- INTERSECTION_RELATED_I: string (nullable = true)\n",
      " |-- NOT_RIGHT_OF_WAY_I: string (nullable = true)\n",
      " |-- HIT_AND_RUN_I: string (nullable = true)\n",
      " |-- DAMAGE: string (nullable = true)\n",
      " |-- DATE_POLICE_NOTIFIED: string (nullable = true)\n",
      " |-- PRIM_CONTRIBUTORY_CAUSE: string (nullable = true)\n",
      " |-- SEC_CONTRIBUTORY_CAUSE: string (nullable = true)\n",
      " |-- STREET_NO: string (nullable = true)\n",
      " |-- STREET_DIRECTION: string (nullable = true)\n",
      " |-- STREET_NAME: string (nullable = true)\n",
      " |-- BEAT_OF_OCCURRENCE: string (nullable = true)\n",
      " |-- PHOTOS_TAKEN_I: string (nullable = true)\n",
      " |-- STATEMENTS_TAKEN_I: string (nullable = true)\n",
      " |-- DOORING_I: string (nullable = true)\n",
      " |-- WORK_ZONE_I: string (nullable = true)\n",
      " |-- WORK_ZONE_TYPE: string (nullable = true)\n",
      " |-- WORKERS_PRESENT_I: string (nullable = true)\n",
      " |-- NUM_UNITS: string (nullable = true)\n",
      " |-- MOST_SEVERE_INJURY: string (nullable = true)\n",
      " |-- INJURIES_TOTAL: string (nullable = true)\n",
      " |-- INJURIES_FATAL: string (nullable = true)\n",
      " |-- INJURIES_INCAPACITATING: string (nullable = true)\n",
      " |-- INJURIES_NON_INCAPACITATING: string (nullable = true)\n",
      " |-- INJURIES_REPORTED_NOT_EVIDENT: string (nullable = true)\n",
      " |-- INJURIES_NO_INDICATION: string (nullable = true)\n",
      " |-- INJURIES_UNKNOWN: string (nullable = true)\n",
      " |-- CRASH_HOUR: string (nullable = true)\n",
      " |-- CRASH_DAY_OF_WEEK: string (nullable = true)\n",
      " |-- CRASH_MONTH: string (nullable = true)\n",
      " |-- LATITUDE: string (nullable = true)\n",
      " |-- LONGITUDE: string (nullable = true)\n",
      " |-- LOCATION: string (nullable = true)\n",
      " |-- PERSON_ID: string (nullable = true)\n",
      " |-- PERSON_TYPE: string (nullable = true)\n",
      " |-- SEAT_NO: string (nullable = true)\n",
      " |-- CITY: string (nullable = true)\n",
      " |-- STATE: string (nullable = true)\n",
      " |-- ZIPCODE: string (nullable = true)\n",
      " |-- SEX: string (nullable = true)\n",
      " |-- AGE: string (nullable = true)\n",
      " |-- DRIVERS_LICENSE_STATE: string (nullable = true)\n",
      " |-- DRIVERS_LICENSE_CLASS: string (nullable = true)\n",
      " |-- SAFETY_EQUIPMENT: string (nullable = true)\n",
      " |-- AIRBAG_DEPLOYED: string (nullable = true)\n",
      " |-- EJECTION: string (nullable = true)\n",
      " |-- INJURY_CLASSIFICATION: string (nullable = true)\n",
      " |-- HOSPITAL: string (nullable = true)\n",
      " |-- EMS_AGENCY: string (nullable = true)\n",
      " |-- EMS_RUN_NO: string (nullable = true)\n",
      " |-- DRIVER_ACTION: string (nullable = true)\n",
      " |-- DRIVER_VISION: string (nullable = true)\n",
      " |-- PHYSICAL_CONDITION: string (nullable = true)\n",
      " |-- PEDPEDAL_ACTION: string (nullable = true)\n",
      " |-- PEDPEDAL_VISIBILITY: string (nullable = true)\n",
      " |-- PEDPEDAL_LOCATION: string (nullable = true)\n",
      " |-- BAC_RESULT: string (nullable = true)\n",
      " |-- BAC_RESULT VALUE: string (nullable = true)\n",
      " |-- CELL_PHONE_USE: string (nullable = true)\n",
      " |-- CRASH_UNIT_ID: string (nullable = true)\n",
      " |-- UNIT_NO: string (nullable = true)\n",
      " |-- UNIT_TYPE: string (nullable = true)\n",
      " |-- NUM_PASSENGERS: string (nullable = true)\n",
      " |-- CMRC_VEH_I: string (nullable = true)\n",
      " |-- MAKE: string (nullable = true)\n",
      " |-- MODEL: string (nullable = true)\n",
      " |-- LIC_PLATE_STATE: string (nullable = true)\n",
      " |-- VEHICLE_YEAR: string (nullable = true)\n",
      " |-- VEHICLE_DEFECT: string (nullable = true)\n",
      " |-- VEHICLE_TYPE: string (nullable = true)\n",
      " |-- VEHICLE_USE: string (nullable = true)\n",
      " |-- TRAVEL_DIRECTION: string (nullable = true)\n",
      " |-- MANEUVER: string (nullable = true)\n",
      " |-- TOWED_I: string (nullable = true)\n",
      " |-- FIRE_I: string (nullable = true)\n",
      " |-- OCCUPANT_CNT: string (nullable = true)\n",
      " |-- EXCEED_SPEED_LIMIT_I: string (nullable = true)\n",
      " |-- TOWED_BY: string (nullable = true)\n",
      " |-- TOWED_TO: string (nullable = true)\n",
      " |-- AREA_00_I: string (nullable = true)\n",
      " |-- AREA_01_I: string (nullable = true)\n",
      " |-- AREA_02_I: string (nullable = true)\n",
      " |-- AREA_03_I: string (nullable = true)\n",
      " |-- AREA_04_I: string (nullable = true)\n",
      " |-- AREA_05_I: string (nullable = true)\n",
      " |-- AREA_06_I: string (nullable = true)\n",
      " |-- AREA_07_I: string (nullable = true)\n",
      " |-- AREA_08_I: string (nullable = true)\n",
      " |-- AREA_09_I: string (nullable = true)\n",
      " |-- AREA_10_I: string (nullable = true)\n",
      " |-- AREA_11_I: string (nullable = true)\n",
      " |-- AREA_12_I: string (nullable = true)\n",
      " |-- AREA_99_I: string (nullable = true)\n",
      " |-- FIRST_CONTACT_POINT: string (nullable = true)\n",
      " |-- CMV_ID: string (nullable = true)\n",
      " |-- USDOT_NO: string (nullable = true)\n",
      " |-- CCMC_NO: string (nullable = true)\n",
      " |-- ILCC_NO: string (nullable = true)\n",
      " |-- COMMERCIAL_SRC: string (nullable = true)\n",
      " |-- GVWR: string (nullable = true)\n",
      " |-- CARRIER_NAME: string (nullable = true)\n",
      " |-- CARRIER_STATE: string (nullable = true)\n",
      " |-- CARRIER_CITY: string (nullable = true)\n",
      " |-- HAZMAT_PLACARDS_I: string (nullable = true)\n",
      " |-- HAZMAT_NAME: string (nullable = true)\n",
      " |-- UN_NO: string (nullable = true)\n",
      " |-- HAZMAT_PRESENT_I: string (nullable = true)\n",
      " |-- HAZMAT_REPORT_I: string (nullable = true)\n",
      " |-- HAZMAT_REPORT_NO: string (nullable = true)\n",
      " |-- MCS_REPORT_I: string (nullable = true)\n",
      " |-- MCS_REPORT_NO: string (nullable = true)\n",
      " |-- HAZMAT_VIO_CAUSE_CRASH_I: string (nullable = true)\n",
      " |-- MCS_VIO_CAUSE_CRASH_I: string (nullable = true)\n",
      " |-- IDOT_PERMIT_NO: string (nullable = true)\n",
      " |-- WIDE_LOAD_I: string (nullable = true)\n",
      " |-- TRAILER1_WIDTH: string (nullable = true)\n",
      " |-- TRAILER2_WIDTH: string (nullable = true)\n",
      " |-- TRAILER1_LENGTH: string (nullable = true)\n",
      " |-- TRAILER2_LENGTH: string (nullable = true)\n",
      " |-- TOTAL_VEHICLE_LENGTH: string (nullable = true)\n",
      " |-- AXLE_CNT: string (nullable = true)\n",
      " |-- VEHICLE_CONFIG: string (nullable = true)\n",
      " |-- CARGO_BODY_TYPE: string (nullable = true)\n",
      " |-- LOAD_TYPE: string (nullable = true)\n",
      " |-- HAZMAT_OUT_OF_SERVICE_I: string (nullable = true)\n",
      " |-- MCS_OUT_OF_SERVICE_I: string (nullable = true)\n",
      " |-- HAZMAT_CLASS: string (nullable = true)\n",
      "\n",
      "Total Rows: 2060623\n",
      "Total Columns: 143\n"
     ]
    }
   ],
   "source": [
    "# Show sample\n",
    "final_df.show(5)\n",
    "\n",
    "# Show schema\n",
    "final_df.printSchema()\n",
    "\n",
    "# Count number of rows and columns\n",
    "row_count = final_df.count()\n",
    "col_count = len(final_df.columns)\n",
    "\n",
    "print(f\"Total Rows: {row_count}\")\n",
    "print(f\"Total Columns: {col_count}\")"
   ]
  },
  {
   "cell_type": "markdown",
   "id": "30920a01",
   "metadata": {},
   "source": [
    "### Primary EDA Analysis Summary\n",
    "\n",
    "Dataset Status:\n",
    "\n",
    "- Total Rows: 2,060,623\n",
    "- Total Columns: 143\n",
    "- Source Tables Joined: Crashes + Vehicles + People"
   ]
  },
  {
   "cell_type": "markdown",
   "id": "7d84aa8e",
   "metadata": {},
   "source": [
    "## Step 2: Null Value Analysis"
   ]
  },
  {
   "cell_type": "code",
   "execution_count": 6,
   "id": "c4ece72b",
   "metadata": {},
   "outputs": [
    {
     "name": "stdout",
     "output_type": "stream",
     "text": [
      "-RECORD 0--------------------------------\n",
      " CRASH_RECORD_ID               | 0       \n",
      " VEHICLE_ID                    | 42261   \n",
      " CRASH_DATE_EST_I              | 1946350 \n",
      " CRASH_DATE                    | 0       \n",
      " POSTED_SPEED_LIMIT            | 0       \n",
      " TRAFFIC_CONTROL_DEVICE        | 0       \n",
      " DEVICE_CONDITION              | 0       \n",
      " WEATHER_CONDITION             | 0       \n",
      " LIGHTING_CONDITION            | 0       \n",
      " FIRST_CRASH_TYPE              | 0       \n",
      " TRAFFICWAY_TYPE               | 0       \n",
      " LANE_CNT                      | 1614145 \n",
      " ALIGNMENT                     | 0       \n",
      " ROADWAY_SURFACE_COND          | 0       \n",
      " ROAD_DEFECT                   | 0       \n",
      " REPORT_TYPE                   | 78615   \n",
      " CRASH_TYPE                    | 0       \n",
      " INTERSECTION_RELATED_I        | 1492604 \n",
      " NOT_RIGHT_OF_WAY_I            | 1988568 \n",
      " HIT_AND_RUN_I                 | 1495849 \n",
      " DAMAGE                        | 0       \n",
      " DATE_POLICE_NOTIFIED          | 0       \n",
      " PRIM_CONTRIBUTORY_CAUSE       | 0       \n",
      " SEC_CONTRIBUTORY_CAUSE        | 0       \n",
      " STREET_NO                     | 0       \n",
      " STREET_DIRECTION              | 7       \n",
      " STREET_NAME                   | 2       \n",
      " BEAT_OF_OCCURRENCE            | 12      \n",
      " PHOTOS_TAKEN_I                | 2030907 \n",
      " STATEMENTS_TAKEN_I            | 2005309 \n",
      " DOORING_I                     | 2054342 \n",
      " WORK_ZONE_I                   | 2049444 \n",
      " WORK_ZONE_TYPE                | 2051987 \n",
      " WORKERS_PRESENT_I             | 2057900 \n",
      " NUM_UNITS                     | 0       \n",
      " MOST_SEVERE_INJURY            | 14      \n",
      " INJURIES_TOTAL                | 0       \n",
      " INJURIES_FATAL                | 0       \n",
      " INJURIES_INCAPACITATING       | 0       \n",
      " INJURIES_NON_INCAPACITATING   | 0       \n",
      " INJURIES_REPORTED_NOT_EVIDENT | 0       \n",
      " INJURIES_NO_INDICATION        | 0       \n",
      " INJURIES_UNKNOWN              | 0       \n",
      " CRASH_HOUR                    | 0       \n",
      " CRASH_DAY_OF_WEEK             | 0       \n",
      " CRASH_MONTH                   | 0       \n",
      " LATITUDE                      | 15231   \n",
      " LONGITUDE                     | 15231   \n",
      " LOCATION                      | 15231   \n",
      " PERSON_ID                     | 0       \n",
      " PERSON_TYPE                   | 0       \n",
      " SEAT_NO                       | 1644372 \n",
      " CITY                          | 560419  \n",
      " STATE                         | 537533  \n",
      " ZIPCODE                       | 678884  \n",
      " SEX                           | 34930   \n",
      " AGE                           | 599212  \n",
      " DRIVERS_LICENSE_STATE         | 853344  \n",
      " DRIVERS_LICENSE_CLASS         | 1057891 \n",
      " SAFETY_EQUIPMENT              | 5743    \n",
      " AIRBAG_DEPLOYED               | 40677   \n",
      " EJECTION                      | 26054   \n",
      " INJURY_CLASSIFICATION         | 765     \n",
      " HOSPITAL                      | 1719569 \n",
      " EMS_AGENCY                    | 1844515 \n",
      " EMS_RUN_NO                    | 2024766 \n",
      " DRIVER_ACTION                 | 419925  \n",
      " DRIVER_VISION                 | 420596  \n",
      " PHYSICAL_CONDITION            | 418805  \n",
      " PEDPEDAL_ACTION               | 2020206 \n",
      " PEDPEDAL_VISIBILITY           | 2020276 \n",
      " PEDPEDAL_LOCATION             | 2020205 \n",
      " BAC_RESULT                    | 419025  \n",
      " BAC_RESULT VALUE              | 2058358 \n",
      " CELL_PHONE_USE                | 2059463 \n",
      " CRASH_UNIT_ID                 | 42261   \n",
      " UNIT_NO                       | 42261   \n",
      " UNIT_TYPE                     | 42263   \n",
      " NUM_PASSENGERS                | 1382018 \n",
      " CMRC_VEH_I                    | 2018480 \n",
      " MAKE                          | 42267   \n",
      " MODEL                         | 42423   \n",
      " LIC_PLATE_STATE               | 214366  \n",
      " VEHICLE_YEAR                  | 346483  \n",
      " VEHICLE_DEFECT                | 42280   \n",
      " VEHICLE_TYPE                  | 42262   \n",
      " VEHICLE_USE                   | 42262   \n",
      " TRAVEL_DIRECTION              | 42263   \n",
      " MANEUVER                      | 42261   \n",
      " TOWED_I                       | 1757773 \n",
      " FIRE_I                        | 2058317 \n",
      " OCCUPANT_CNT                  | 42741   \n",
      " EXCEED_SPEED_LIMIT_I          | 2056760 \n",
      " TOWED_BY                      | 1827749 \n",
      " TOWED_TO                      | 1916344 \n",
      " AREA_00_I                     | 1985370 \n",
      " AREA_01_I                     | 1463773 \n",
      " AREA_02_I                     | 1707715 \n",
      " AREA_03_I                     | 1847851 \n",
      " AREA_04_I                     | 1858584 \n",
      " AREA_05_I                     | 1751582 \n",
      " AREA_06_I                     | 1754941 \n",
      " AREA_07_I                     | 1797943 \n",
      " AREA_08_I                     | 1804759 \n",
      " AREA_09_I                     | 1930232 \n",
      " AREA_10_I                     | 1854454 \n",
      " AREA_11_I                     | 1635810 \n",
      " AREA_12_I                     | 1628666 \n",
      " AREA_99_I                     | 1829421 \n",
      " FIRST_CONTACT_POINT           | 46100   \n",
      " CMV_ID                        | 2037907 \n",
      " USDOT_NO                      | 2049111 \n",
      " CCMC_NO                       | 2058248 \n",
      " ILCC_NO                       | 2058946 \n",
      " COMMERCIAL_SRC                | 2046345 \n",
      " GVWR                          | 2048371 \n",
      " CARRIER_NAME                  | 2039290 \n",
      " CARRIER_STATE                 | 2040454 \n",
      " CARRIER_CITY                  | 2040802 \n",
      " HAZMAT_PLACARDS_I             | 2060141 \n",
      " HAZMAT_NAME                   | 2060557 \n",
      " UN_NO                         | 2059958 \n",
      " HAZMAT_PRESENT_I              | 2044439 \n",
      " HAZMAT_REPORT_I               | 2044751 \n",
      " HAZMAT_REPORT_NO              | 2060523 \n",
      " MCS_REPORT_I                  | 2044813 \n",
      " MCS_REPORT_NO                 | 2060516 \n",
      " HAZMAT_VIO_CAUSE_CRASH_I      | 2044650 \n",
      " MCS_VIO_CAUSE_CRASH_I         | 2044808 \n",
      " IDOT_PERMIT_NO                | 2059396 \n",
      " WIDE_LOAD_I                   | 2060426 \n",
      " TRAILER1_WIDTH                | 2057467 \n",
      " TRAILER2_WIDTH                | 2060218 \n",
      " TRAILER1_LENGTH               | 2058116 \n",
      " TRAILER2_LENGTH               | 2060552 \n",
      " TOTAL_VEHICLE_LENGTH          | 2057190 \n",
      " AXLE_CNT                      | 2055459 \n",
      " VEHICLE_CONFIG                | 2041882 \n",
      " CARGO_BODY_TYPE               | 2042478 \n",
      " LOAD_TYPE                     | 2043661 \n",
      " HAZMAT_OUT_OF_SERVICE_I       | 2045268 \n",
      " MCS_OUT_OF_SERVICE_I          | 2044911 \n",
      " HAZMAT_CLASS                  | 2059279 \n",
      "\n"
     ]
    }
   ],
   "source": [
    "from pyspark.sql.functions import col, sum as spark_sum, when\n",
    "\n",
    "# Calculate missing values per column\n",
    "missing_counts = final_df.select([\n",
    "    spark_sum(when(col(c).isNull(), 1).otherwise(0)).alias(c)\n",
    "    for c in final_df.columns\n",
    "])\n",
    "\n",
    "missing_counts.show(vertical=True, truncate=False)"
   ]
  },
  {
   "cell_type": "markdown",
   "id": "701af4ad",
   "metadata": {},
   "source": [
    "### Key Observations from Missing Value Analysis\n",
    "\n",
    "1. Good Columns (Almost No Missing Values)\n",
    "\n",
    "✅ These columns are mostly complete:\n",
    "\n",
    "- `CRASH_RECORD_ID`\n",
    "- `CRASH_DATE`\n",
    "- `POSTED_SPEED_LIMIT`\n",
    "- `TRAFFIC_CONTROL_DEVICE`\n",
    "- `DEVICE_CONDITION`\n",
    "- `WEATHER_CONDITION`\n",
    "- `LIGHTING_CONDITION`\n",
    "- `FIRST_CRASH_TYPE`\n",
    "- `CRASH_TYPE`\n",
    "- `ROADWAY_SURFACE_COND`\n",
    "- `PRIM_CONTRIBUTORY_CAUSE`\n",
    "- `SEC_CONTRIBUTORY_CAUSE`\n",
    "- `INJURIES_TOTAL`, `INJURIES_FATAL`, `INJURIES_NO_INDICATION`, `INJURIES_INCAPACITATING`, `INJURIES_NON_INCAPACITATING`, `INJURIES_REPORTED_NOT_EVIDENT`, `INJURIES_UNKNOWN`\n",
    "- `CRASH_HOUR`, `CRASH_DAY_OF_WEEK`, `CRASH_MONTH`\n",
    "\n",
    "➡️ These columns are high-quality candidates for modeling without heavy imputation.\n",
    "\n",
    "---\n",
    "\n",
    "2. Columns with Massive Missing Values (>90% missing)\n",
    "\n",
    "🚫 These columns are almost useless unless we carefully fill or engineer them:\n",
    "\n",
    "- `CRASH_DATE_EST_I`\n",
    "- `INTERSECTION_RELATED_I`\n",
    "- `NOT_RIGHT_OF_WAY_I`\n",
    "- `HIT_AND_RUN_I`\n",
    "- `TOWED_I`\n",
    "- `WORK_ZONE_I`, `WORK_ZONE_TYPE`, `WORKERS_PRESENT_I`\n",
    "- `AREA_00_I` to `AREA_12_I`, `AREA_99_I`\n",
    "- `PEDPEDAL_ACTION`, `PEDPEDAL_VISIBILITY`, `PEDPEDAL_LOCATION`\n",
    "- `EMS_AGENCY`, `EMS_RUN_NO`\n",
    "- `BAC_RESULT VALUE`\n",
    "- `HAZMAT_PLACARDS_I`, `HAZMAT_NAME`, `UN_NO`, `HAZMAT_PRESENT_I`, `HAZMAT_REPORT_I`\n",
    "- `WIDE_LOAD_I`\n",
    "- `MCS_*` related columns\n",
    "- `IDOT_PERMIT_NO`, `GVWR`, `CARRIER_NAME`, `CARRIER_CITY`, `CARRIER_STATE`\n",
    "\n",
    "➡️ We can **safely DROP** most of these columns to reduce noise and improve modeling performance.\n",
    "\n",
    "---\n",
    "\n",
    "3. Person Data Is Very Sparse\n",
    "\n",
    "🧍 Person-related fields like:\n",
    "\n",
    "- `PERSON_ID`\n",
    "- `SEX`\n",
    "- `AGE`\n",
    "- `CITY`, `STATE`, `ZIPCODE`\n",
    "- `SAFETY_EQUIPMENT`\n",
    "- `AIRBAG_DEPLOYED`\n",
    "- `INJURY_CLASSIFICATION`\n",
    "- `DRIVERS_LICENSE_STATE`, `DRIVERS_LICENSE_CLASS`\n",
    "- `BAC_RESULT`\n",
    "- `CELL_PHONE_USE`\n",
    "- `EMS_*`\n",
    "\n",
    "have significant missingness, often between **30% to 90%**, especially in pedestrian and cyclist records.\n",
    "\n",
    "➡️ For modeling, it's safer to either:\n",
    "- **Separate** person-level data into a specialized analysis/model, or\n",
    "- **Exclude** it initially to keep the crash-level modeling clean and consistent.\n",
    "\n",
    "---\n",
    "\n",
    " Overall Strategy\n",
    "\n",
    "- ✅ Focus on clean crash and vehicle attributes.\n",
    "- 🚫 Drop highly missing, unreliable, or niche columns.\n",
    "- ⚙️ Consider filling essential columns with careful logic only if needed.\n"
   ]
  },
  {
   "cell_type": "markdown",
   "id": "9fa5cd3d",
   "metadata": {},
   "source": [
    "## Step 3: Feature Shortlisting\n",
    "\n",
    "🧠 Feature Shortlisting Strategy\n",
    "\n",
    "We’ve categorized features into three clear groups for better modeling clarity based on missingness and relevance.\n",
    "\n",
    "---\n",
    "\n",
    " 🎯 Target Columns (Modeling Outcomes)\n",
    "\n",
    "| Column               | Type               | Reason |\n",
    "|----------------------|--------------------|--------|\n",
    "| `INJURIES_TOTAL`      | Regression         | Predicts total number of injuries in a crash — good for severity/cost modeling. |\n",
    "| `INJURIES_FATAL`      | Regression / Binary | Can be framed as binary classification: fatal vs non-fatal. |\n",
    "| `MOST_SEVERE_INJURY`  | Classification     | Categorical outcome — great for multi-class classification (e.g., NO INJURY, FATAL, SERIOUS INJURY, etc.). |\n",
    "\n",
    "💡 **We can pick any of the three depending on our modeling direction.**  \n",
    "(We'll finalize this after further EDA on outcome distributions.)\n",
    "\n",
    "---\n",
    "\n",
    " ✅ Selected Input Features (Predictors)\n",
    "\n",
    "| Feature                   | Type         | Why |\n",
    "|----------------------------|--------------|-----|\n",
    "| `CRASH_TYPE`               | Categorical  | Overall type of crash: rear-end, sideswipe, collision with object, etc. |\n",
    "| `FIRST_CRASH_TYPE`         | Categorical  | More granular first-event crash type. |\n",
    "| `POSTED_SPEED_LIMIT`       | Numeric      | Environmental risk factor (speed). |\n",
    "| `TRAFFIC_CONTROL_DEVICE`   | Categorical  | Presence of stop signs, traffic lights, yield signs. |\n",
    "| `DEVICE_CONDITION`         | Categorical  | Whether traffic controls were working properly. |\n",
    "| `WEATHER_CONDITION`        | Categorical  | Impact of rain, snow, fog, etc. on crashes. |\n",
    "| `LIGHTING_CONDITION`       | Categorical  | Daylight, dark streetlight conditions. |\n",
    "| `ROADWAY_SURFACE_COND`     | Categorical  | Road condition at time of crash (dry, wet, icy). |\n",
    "| `PRIM_CONTRIBUTORY_CAUSE`  | Categorical  | Main cause of crash (e.g., speeding, distraction). |\n",
    "| `SEC_CONTRIBUTORY_CAUSE`   | Categorical  | Secondary contributing factor. |\n",
    "| `CRASH_HOUR`, `CRASH_DAY_OF_WEEK`, `CRASH_MONTH` | Numeric | Temporal patterns (rush hours, weekdays vs weekends, seasonal effects). |\n",
    "| `VEHICLE_TYPE`             | Categorical  | Car, SUV, Truck, Bicycle, etc. |\n",
    "| `MANEUVER`                 | Categorical  | Turning, going straight, changing lanes — vehicle movement just before crash. |\n",
    "\n",
    "✅ **These columns are relatively complete** and capture important contextual, environmental, and behavioral signals for modeling injury outcomes.\n",
    "\n",
    "---\n",
    "\n",
    " 🗑️ Features to Drop (Too Sparse or Irrelevant)\n",
    "\n",
    "| Reason                  | Examples |\n",
    "|--------------------------|----------|\n",
    "| 🚫 **90%+ Missing Values** | `CRASH_DATE_EST_I`, `INTERSECTION_RELATED_I`, `NOT_RIGHT_OF_WAY_I`, `HIT_AND_RUN_I`, `TOWED_I`, `WORK_ZONE_I`, `AREA_XX_I`, `HAZMAT_*` related fields, `EMS_RUN_NO`, etc. |\n",
    "| 📉 **Sparse Person Fields** | `EMS_AGENCY`, `PEDPEDAL_ACTION`, `BAC_RESULT VALUE`, `DRIVERS_LICENSE_CLASS`, etc. (especially pedestrian/bicyclist-specific fields). |\n",
    "| 🔁 **Redundant/Highly Specific** | `STREET_NO`, `STREET_DIRECTION`, `STREET_NAME`, `LOCATION` (very fine-grained, too geolocation-specific for generalized modeling). |\n",
    "\n",
    "➡️ **We will exclude these from the modeling dataset** to keep it clean, compact, and memory-efficient.\n",
    "\n",
    "---\n",
    "\n",
    " 📌 Final Next Step:\n",
    "Proceed to clean the DataFrame by:\n",
    "- Keeping only the selected predictors and target(s).\n",
    "- Dropping sparse, noisy, or redundant columns.\n",
    "- Preparing feature transformations for modeling (indexing, encoding, assembling features).\n"
   ]
  },
  {
   "cell_type": "markdown",
   "id": "ae04339f",
   "metadata": {},
   "source": [
    "## Step 4: Create Cleaned Feature Dataset"
   ]
  },
  {
   "cell_type": "code",
   "execution_count": 7,
   "id": "3a72aa43",
   "metadata": {},
   "outputs": [
    {
     "name": "stdout",
     "output_type": "stream",
     "text": [
      "+--------------+--------------+--------------------+--------------------+--------------------+------------------+----------------------+--------------------+-----------------+--------------------+--------------------+-----------------------+----------------------+----------+-----------------+-----------+--------------------+--------------------+\n",
      "|INJURIES_TOTAL|INJURIES_FATAL|  MOST_SEVERE_INJURY|          CRASH_TYPE|    FIRST_CRASH_TYPE|POSTED_SPEED_LIMIT|TRAFFIC_CONTROL_DEVICE|    DEVICE_CONDITION|WEATHER_CONDITION|  LIGHTING_CONDITION|ROADWAY_SURFACE_COND|PRIM_CONTRIBUTORY_CAUSE|SEC_CONTRIBUTORY_CAUSE|CRASH_HOUR|CRASH_DAY_OF_WEEK|CRASH_MONTH|        VEHICLE_TYPE|            MANEUVER|\n",
      "+--------------+--------------+--------------------+--------------------+--------------------+------------------+----------------------+--------------------+-----------------+--------------------+--------------------+-----------------------+----------------------+----------+-----------------+-----------+--------------------+--------------------+\n",
      "|             0|             0|NO INDICATION OF ...|NO INJURY / DRIVE...|SIDESWIPE SAME DI...|                30|        TRAFFIC SIGNAL|FUNCTIONING PROPERLY|            CLEAR|                DAWN|                 DRY|    IMPROPER LANE USAGE|   UNABLE TO DETERMINE|         5|                7|          4|SPORT UTILITY VEH...|SLOW/STOP IN TRAFFIC|\n",
      "|             0|             0|NO INDICATION OF ...|NO INJURY / DRIVE...|SIDESWIPE SAME DI...|                35|           NO CONTROLS|         NO CONTROLS|            CLEAR|DARKNESS, LIGHTED...|                 DRY|   FAILING TO YIELD ...|  DRIVING SKILLS/KN...|         2|                2|         10|           PASSENGER|      STRAIGHT AHEAD|\n",
      "|             0|             0|NO INDICATION OF ...|NO INJURY / DRIVE...|SIDESWIPE SAME DI...|                35|           NO CONTROLS|         NO CONTROLS|            CLEAR|DARKNESS, LIGHTED...|                 DRY|   FAILING TO YIELD ...|  DRIVING SKILLS/KN...|         2|                2|         10|           PASSENGER|      STRAIGHT AHEAD|\n",
      "|             0|             0|NO INDICATION OF ...|NO INJURY / DRIVE...|PARKED MOTOR VEHICLE|                30|           NO CONTROLS|         NO CONTROLS|            CLEAR|            DAYLIGHT|                 DRY|         NOT APPLICABLE|        NOT APPLICABLE|        13|                3|          2|SPORT UTILITY VEH...|              PARKED|\n",
      "|             0|             0|NO INDICATION OF ...|NO INJURY / DRIVE...|            REAR END|                30|           NO CONTROLS|         NO CONTROLS|            CLEAR|DARKNESS, LIGHTED...|                 DRY|    UNABLE TO DETERMINE|        NOT APPLICABLE|        21|                6|          3|           PASSENGER|ENTERING TRAFFIC ...|\n",
      "+--------------+--------------+--------------------+--------------------+--------------------+------------------+----------------------+--------------------+-----------------+--------------------+--------------------+-----------------------+----------------------+----------+-----------------+-----------+--------------------+--------------------+\n",
      "only showing top 5 rows\n",
      "\n"
     ]
    }
   ],
   "source": [
    "# Choose selected columns\n",
    "selected_columns = [\n",
    "    \"INJURIES_TOTAL\", \"INJURIES_FATAL\", \"MOST_SEVERE_INJURY\",\n",
    "    \"CRASH_TYPE\", \"FIRST_CRASH_TYPE\", \"POSTED_SPEED_LIMIT\",\n",
    "    \"TRAFFIC_CONTROL_DEVICE\", \"DEVICE_CONDITION\", \"WEATHER_CONDITION\",\n",
    "    \"LIGHTING_CONDITION\", \"ROADWAY_SURFACE_COND\", \"PRIM_CONTRIBUTORY_CAUSE\",\n",
    "    \"SEC_CONTRIBUTORY_CAUSE\", \"CRASH_HOUR\", \"CRASH_DAY_OF_WEEK\", \"CRASH_MONTH\",\n",
    "    \"VEHICLE_TYPE\", \"MANEUVER\"\n",
    "]\n",
    "\n",
    "# Filter the full DataFrame to only include selected columns\n",
    "model_df = final_df.select(*selected_columns)\n",
    "\n",
    "# Preview it\n",
    "model_df.show(5)"
   ]
  },
  {
   "cell_type": "markdown",
   "id": "5cb2b901",
   "metadata": {},
   "source": [
    "# Section 5: Final EDA & Modeling Direction"
   ]
  },
  {
   "cell_type": "markdown",
   "id": "1beedd67",
   "metadata": {},
   "source": [
    "## Step 1: Quick Class Distribution of MOST_SEVERE_INJURY"
   ]
  },
  {
   "cell_type": "code",
   "execution_count": 8,
   "id": "b31e7b3e",
   "metadata": {},
   "outputs": [
    {
     "name": "stdout",
     "output_type": "stream",
     "text": [
      "+------------------------+-------+\n",
      "|MOST_SEVERE_INJURY      |count  |\n",
      "+------------------------+-------+\n",
      "|NO INDICATION OF INJURY |1690133|\n",
      "|NONINCAPACITATING INJURY|204207 |\n",
      "|REPORTED, NOT EVIDENT   |120663 |\n",
      "|INCAPACITATING INJURY   |42758  |\n",
      "|FATAL                   |2848   |\n",
      "|NULL                    |14     |\n",
      "+------------------------+-------+\n",
      "\n"
     ]
    }
   ],
   "source": [
    "model_df.groupBy(\"MOST_SEVERE_INJURY\").count().orderBy(\"count\", ascending=False).show(truncate=False)"
   ]
  },
  {
   "cell_type": "markdown",
   "id": "89f76e9a",
   "metadata": {},
   "source": [
    "### Interpretation of Class Distribution: `MOST_SEVERE_INJURY`\n",
    "\n",
    " 📊 Step 1: MOST_SEVERE_INJURY Class Distribution\n",
    "\n",
    "| Class                    | Count   | % of Total |\n",
    "|--------------------------|---------|------------|\n",
    "| NO INDICATION OF INJURY  | 1,690,133 | ~82.6%     |\n",
    "| NONINCAPACITATING INJURY | 204,207   | ~10.0%     |\n",
    "| REPORTED, NOT EVIDENT    | 120,663   | ~5.9%      |\n",
    "| INCAPACITATING INJURY    | 42,758    | ~2.1%      |\n",
    "| FATAL                    | 2,848     | ~0.14%     |\n",
    "| NULL (missing values)    | 14        | ~0.0007%   |\n",
    "\n",
    "---\n",
    "\n",
    " ✅ Key Observations:\n",
    "\n",
    "- 📉 **Severe Class Imbalance**:  \n",
    "  The majority of crashes (~83%) resulted in **no injuries**, which can heavily skew model training if not handled.\n",
    "\n",
    "- ⚠️ **Low Representation of Critical Classes**:  \n",
    "  Only ~0.14% of records are **fatal** crashes. Models might struggle to learn these minority classes unless special handling (resampling, weighting) is used.\n",
    "\n",
    "- 🧹 **Minimal Missing Labels**:  \n",
    "  Only 14 rows have NULL in the target — these can be **safely dropped** without affecting data quality.\n",
    "\n",
    "---\n",
    "\n",
    " 🔧 Modeling Implications:\n",
    "\n",
    "- Consider **class balancing strategies** such as:\n",
    "  - Class weighting\n",
    "  - Undersampling \"No Injury\"\n",
    "  - Oversampling rare injuries\n",
    "\n",
    "- Or, merge classes to reduce imbalance:\n",
    "  - **FATAL + INCAPACITATING → SEVERE_INJURY**\n",
    "  - **REPORTED/NOT EVIDENT + NONINCAPACITATING → MINOR_INJURY**\n",
    "  - **NO INDICATION → NO_INJURY**\n",
    "\n",
    "➡️ This creates a more balanced **3-class setup**:  \n",
    "`SEVERE`, `MINOR`, and `NO_INJURY` — easier to train and interpret."
   ]
  },
  {
   "cell_type": "markdown",
   "id": "28229370",
   "metadata": {},
   "source": [
    "## Step 2: Distribution of INJURIES_TOTAL"
   ]
  },
  {
   "cell_type": "code",
   "execution_count": 9,
   "id": "16a94793",
   "metadata": {},
   "outputs": [
    {
     "name": "stdout",
     "output_type": "stream",
     "text": [
      "+-------+-------------------+\n",
      "|summary|     INJURIES_TOTAL|\n",
      "+-------+-------------------+\n",
      "|  count|            2060623|\n",
      "|   mean|0.28866609758310957|\n",
      "| stddev| 0.7960497159240851|\n",
      "|    min|                  0|\n",
      "|    max|                  9|\n",
      "+-------+-------------------+\n",
      "\n",
      "Median: 0.0, 90th percentile: 1.0, 99th percentile: 21.0\n"
     ]
    }
   ],
   "source": [
    "from pyspark.sql.functions import col\n",
    "\n",
    "# Descriptive stats\n",
    "model_df.select(\"INJURIES_TOTAL\").describe().show()\n",
    "\n",
    "# Cast INJURIES_TOTAL to integer\n",
    "model_df = model_df.withColumn(\"INJURIES_TOTAL\", col(\"INJURIES_TOTAL\").cast(\"int\"))\n",
    "\n",
    "# Now we can safely compute quantiles\n",
    "quantiles = model_df.approxQuantile(\"INJURIES_TOTAL\", [0.5, 0.9, 0.99], 0.01)\n",
    "print(f\"Median: {quantiles[0]}, 90th percentile: {quantiles[1]}, 99th percentile: {quantiles[2]}\")"
   ]
  },
  {
   "cell_type": "markdown",
   "id": "8af079a9",
   "metadata": {},
   "source": [
    "### Interpretation of the Results\n",
    "\n",
    " ✅ Key Observations:\n",
    "\n",
    "- ⚠️ **Highly skewed** distribution:\n",
    "  - The **median is 0**, indicating that **most crashes result in no injuries**.\n",
    "  - The average is just ~0.29, confirming that the distribution is heavily right-skewed.\n",
    "\n",
    "- 🚨 **Rare but extreme outliers**:\n",
    "  - While 90% of crashes have **1 or fewer injuries**, the top 1% involve up to **21 people injured**.\n",
    "  - These rare, high-impact crashes can distort model performance if not handled carefully.\n",
    "\n",
    "- 📉 **Modeling impact**:\n",
    "  - If we model `INJURIES_TOTAL` as a regression problem, it will be **imbalanced** and dominated by the zeros.\n",
    "  - A simple linear regression would struggle — we may need:\n",
    "    - Log-transformation (for reducing skew),\n",
    "    - Robust regression,\n",
    "    - Or even reframing as a **classification task** (e.g., No Injury vs. Any Injury).\n"
   ]
  },
  {
   "cell_type": "markdown",
   "id": "9b5f2428",
   "metadata": {},
   "source": [
    "## Step 3: Modeling Direction Summary\n",
    "\n",
    " 🎯 Research Question\n",
    "\n",
    "Can we predict the **most severe injury outcome** of a traffic crash based on **crash conditions**, **vehicle types**, **environmental factors**, and **crash timing**?\n",
    "\n",
    "---\n",
    "\n",
    " 📋 Modeling Pathways\n",
    "\n",
    "| Direction                  | Target Variable        | Method(s)                                          | Rationale |\n",
    "|----------------------------|------------------------|----------------------------------------------------|-----------|\n",
    "| ✅ Multi-class Classification (Preferred) | `MOST_SEVERE_INJURY`     | Logistic Regression, Decision Tree, Random Forest, GBTClassifier | Classes are interpretable (No Injury, Minor, Severe, Fatal); imbalance is manageable after class grouping. |\n",
    "| 🔵 Binary Classification (Optional)       | `INJURIES_FATAL`          | Logistic Regression, Tree Models                   | Important for policy planning, but extreme imbalance (~0.14%) makes it tricky without resampling. |\n",
    "| 🔴 Regression (Not Preferred)             | `INJURIES_TOTAL`          | Linear Regression, GBT Regressor                   | Highly skewed — most crashes have 0 injuries, top 1% skew results; difficult to generalize. |\n",
    "\n",
    "---\n",
    "\n",
    " 📌 Final Recommendation\n",
    "\n",
    "- ✅ **Proceed with Multi-Class Classification** using `MOST_SEVERE_INJURY`.\n",
    "- 🧹 Drop rows where `MOST_SEVERE_INJURY` is **NULL** (only 14 rows — negligible).\n",
    "- 🔄 (Optional) **Group rare classes** for a simpler, more balanced target:\n",
    "  - `FATAL` + `INCAPACITATING` → **SEVERE_INJURY**\n",
    "  - `NONINCAPACITATING` + `REPORTED, NOT EVIDENT` → **MINOR_INJURY**\n",
    "  - `NO INDICATION OF INJURY` → **NO_INJURY**\n",
    "\n",
    "➡️ This creates a **3-class classification task** that improves balance while preserving meaning.\n",
    "\n",
    "---\n",
    "\n",
    " 📋 Final Selected Models\n",
    "\n",
    "| Model                    | Reason |\n",
    "|--------------------------|--------|\n",
    "| Logistic Regression      | Good baseline; interpretable coefficients. |\n",
    "| Decision Tree Classifier | Understand rule-based splits causing injuries. |\n",
    "| Random Forest Classifier | Higher accuracy; robust to noise. |\n",
    "| GBTClassifier            | Strong gradient-boosting method for top-tier performance. |\n",
    "\n",
    "---\n",
    "\n",
    " ✅ Quick Final Code Adjustment\n",
    "\n",
    "Before modeling, remove rows with missing injury labels:\n",
    "\n",
    "```python\n",
    "# Drop rows with missing target label\n",
    "model_df_clean = model_df.filter(model_df[\"MOST_SEVERE_INJURY\"].isNotNull())\n",
    "```"
   ]
  },
  {
   "cell_type": "markdown",
   "id": "e9b06027",
   "metadata": {},
   "source": [
    "# Section 6: SparkSQL Queries\n",
    "- Done by: Andrey \n"
   ]
  },
  {
   "cell_type": "code",
   "execution_count": 10,
   "id": "b5d32111",
   "metadata": {},
   "outputs": [],
   "source": [
    "# Register our working DataFrame\n",
    "model_df.createOrReplaceTempView(\"traffic_crashes\")"
   ]
  },
  {
   "cell_type": "markdown",
   "id": "9b3ccd4d",
   "metadata": {},
   "source": [
    "## Query 1: Total number of crash records"
   ]
  },
  {
   "cell_type": "code",
   "execution_count": 11,
   "id": "6d1a2525",
   "metadata": {},
   "outputs": [
    {
     "name": "stdout",
     "output_type": "stream",
     "text": [
      "+-------------+\n",
      "|total_crashes|\n",
      "+-------------+\n",
      "|      2060623|\n",
      "+-------------+\n",
      "\n"
     ]
    }
   ],
   "source": [
    "spark.sql(\"\"\"\n",
    "SELECT COUNT(*) AS total_crashes\n",
    "FROM traffic_crashes\n",
    "\"\"\").show()"
   ]
  },
  {
   "cell_type": "markdown",
   "id": "f2e11dad",
   "metadata": {},
   "source": [
    "## Query 2: Top 5 Weather Conditions during crashes"
   ]
  },
  {
   "cell_type": "code",
   "execution_count": 12,
   "id": "b63b1724",
   "metadata": {},
   "outputs": [
    {
     "name": "stdout",
     "output_type": "stream",
     "text": [
      "+-----------------+-----------+\n",
      "|WEATHER_CONDITION|crash_count|\n",
      "+-----------------+-----------+\n",
      "|            CLEAR|    1632632|\n",
      "|             RAIN|     186275|\n",
      "|          UNKNOWN|      95178|\n",
      "|             SNOW|      64406|\n",
      "|  CLOUDY/OVERCAST|      63886|\n",
      "+-----------------+-----------+\n",
      "\n"
     ]
    }
   ],
   "source": [
    "spark.sql(\"\"\"\n",
    "SELECT WEATHER_CONDITION, COUNT(*) AS crash_count\n",
    "FROM traffic_crashes\n",
    "GROUP BY WEATHER_CONDITION\n",
    "ORDER BY crash_count DESC\n",
    "LIMIT 5\n",
    "\"\"\").show()"
   ]
  },
  {
   "cell_type": "markdown",
   "id": "54f673b0",
   "metadata": {},
   "source": [
    "## Query 3: Top 5 Most Common Traffic Control Devices"
   ]
  },
  {
   "cell_type": "code",
   "execution_count": 13,
   "id": "07efeeab",
   "metadata": {},
   "outputs": [
    {
     "name": "stdout",
     "output_type": "stream",
     "text": [
      "+----------------------+------------+\n",
      "|TRAFFIC_CONTROL_DEVICE|device_count|\n",
      "+----------------------+------------+\n",
      "|           NO CONTROLS|     1040804|\n",
      "|        TRAFFIC SIGNAL|      672417|\n",
      "|     STOP SIGN/FLASHER|      232529|\n",
      "|               UNKNOWN|       83161|\n",
      "|                 OTHER|       13474|\n",
      "+----------------------+------------+\n",
      "\n"
     ]
    }
   ],
   "source": [
    "spark.sql(\"\"\"\n",
    "SELECT TRAFFIC_CONTROL_DEVICE, COUNT(*) AS device_count\n",
    "FROM traffic_crashes\n",
    "GROUP BY TRAFFIC_CONTROL_DEVICE\n",
    "ORDER BY device_count DESC\n",
    "LIMIT 5\n",
    "\"\"\").show()"
   ]
  },
  {
   "cell_type": "markdown",
   "id": "59db4279",
   "metadata": {},
   "source": [
    "## Query 4: Most Common Lighting Conditions"
   ]
  },
  {
   "cell_type": "code",
   "execution_count": 14,
   "id": "35cd2643",
   "metadata": {},
   "outputs": [
    {
     "name": "stdout",
     "output_type": "stream",
     "text": [
      "+--------------------+-----------+\n",
      "|  LIGHTING_CONDITION|light_count|\n",
      "+--------------------+-----------+\n",
      "|            DAYLIGHT|    1347970|\n",
      "|DARKNESS, LIGHTED...|     454646|\n",
      "|            DARKNESS|      90366|\n",
      "|             UNKNOWN|      73079|\n",
      "|                DUSK|      61861|\n",
      "|                DAWN|      32701|\n",
      "+--------------------+-----------+\n",
      "\n"
     ]
    }
   ],
   "source": [
    "spark.sql(\"\"\"\n",
    "SELECT LIGHTING_CONDITION, COUNT(*) AS light_count\n",
    "FROM traffic_crashes\n",
    "GROUP BY LIGHTING_CONDITION\n",
    "ORDER BY light_count DESC\n",
    "\"\"\").show()"
   ]
  },
  {
   "cell_type": "markdown",
   "id": "32eba903",
   "metadata": {},
   "source": [
    "## Query 5: Distribution of Injury Severities (MOST_SEVERE_INJURY)"
   ]
  },
  {
   "cell_type": "code",
   "execution_count": 15,
   "id": "2e0bd743",
   "metadata": {},
   "outputs": [
    {
     "name": "stdout",
     "output_type": "stream",
     "text": [
      "+--------------------+------------+\n",
      "|  MOST_SEVERE_INJURY|injury_count|\n",
      "+--------------------+------------+\n",
      "|NO INDICATION OF ...|     1690133|\n",
      "|NONINCAPACITATING...|      204207|\n",
      "|REPORTED, NOT EVI...|      120663|\n",
      "|INCAPACITATING IN...|       42758|\n",
      "|               FATAL|        2848|\n",
      "|                NULL|          14|\n",
      "+--------------------+------------+\n",
      "\n"
     ]
    }
   ],
   "source": [
    "spark.sql(\"\"\"\n",
    "SELECT MOST_SEVERE_INJURY, COUNT(*) AS injury_count\n",
    "FROM traffic_crashes\n",
    "GROUP BY MOST_SEVERE_INJURY\n",
    "ORDER BY injury_count DESC\n",
    "\"\"\").show()"
   ]
  },
  {
   "cell_type": "markdown",
   "id": "be50cec7",
   "metadata": {},
   "source": [
    "## Query 6: Relationship Between Number of Injuries and Injury Severity"
   ]
  },
  {
   "cell_type": "code",
   "execution_count": 16,
   "id": "85affa20",
   "metadata": {},
   "outputs": [
    {
     "name": "stdout",
     "output_type": "stream",
     "text": [
      "+--------------+--------------------+--------------+\n",
      "|INJURIES_TOTAL|  MOST_SEVERE_INJURY|incident_count|\n",
      "+--------------+--------------------+--------------+\n",
      "|             0|NO INDICATION OF ...|       1690133|\n",
      "|             1|NONINCAPACITATING...|        133787|\n",
      "|             1|REPORTED, NOT EVI...|         85040|\n",
      "|             2|NONINCAPACITATING...|         41006|\n",
      "|             1|INCAPACITATING IN...|         25015|\n",
      "|             2|REPORTED, NOT EVI...|         23272|\n",
      "|             3|NONINCAPACITATING...|         16438|\n",
      "|             2|INCAPACITATING IN...|          8955|\n",
      "|             3|REPORTED, NOT EVI...|          7490|\n",
      "|             4|NONINCAPACITATING...|          7200|\n",
      "+--------------+--------------------+--------------+\n",
      "\n"
     ]
    }
   ],
   "source": [
    "spark.sql(\"\"\"\n",
    "SELECT INJURIES_TOTAL, MOST_SEVERE_INJURY, COUNT(*) AS incident_count\n",
    "FROM traffic_crashes\n",
    "GROUP BY INJURIES_TOTAL, MOST_SEVERE_INJURY\n",
    "ORDER BY incident_count DESC\n",
    "LIMIT 10\n",
    "\"\"\").show()"
   ]
  },
  {
   "cell_type": "markdown",
   "id": "9684d676",
   "metadata": {},
   "source": [
    "## Query 7: Top 5 Roadway Surface Conditions"
   ]
  },
  {
   "cell_type": "code",
   "execution_count": 17,
   "id": "7a852cbe",
   "metadata": {},
   "outputs": [
    {
     "name": "stdout",
     "output_type": "stream",
     "text": [
      "+--------------------+-------------+\n",
      "|ROADWAY_SURFACE_COND|surface_count|\n",
      "+--------------------+-------------+\n",
      "|                 DRY|      1533957|\n",
      "|                 WET|       282133|\n",
      "|             UNKNOWN|       163949|\n",
      "|       SNOW OR SLUSH|        61702|\n",
      "|                 ICE|        13278|\n",
      "+--------------------+-------------+\n",
      "\n"
     ]
    }
   ],
   "source": [
    "spark.sql(\"\"\"\n",
    "SELECT ROADWAY_SURFACE_COND, COUNT(*) AS surface_count\n",
    "FROM traffic_crashes\n",
    "GROUP BY ROADWAY_SURFACE_COND\n",
    "ORDER BY surface_count DESC\n",
    "LIMIT 5\n",
    "\"\"\").show()"
   ]
  },
  {
   "cell_type": "markdown",
   "id": "74a6e304",
   "metadata": {},
   "source": [
    "## Query 8: Crashes Involving Posted Speed Limits Over 50 mph"
   ]
  },
  {
   "cell_type": "code",
   "execution_count": 18,
   "id": "d559db12",
   "metadata": {},
   "outputs": [
    {
     "name": "stdout",
     "output_type": "stream",
     "text": [
      "+------------------+\n",
      "|high_speed_crashes|\n",
      "+------------------+\n",
      "|              2588|\n",
      "+------------------+\n",
      "\n"
     ]
    }
   ],
   "source": [
    "spark.sql(\"\"\"\n",
    "SELECT COUNT(*) AS high_speed_crashes\n",
    "FROM traffic_crashes\n",
    "WHERE POSTED_SPEED_LIMIT > 50\n",
    "\"\"\").show()"
   ]
  },
  {
   "cell_type": "markdown",
   "id": "6cf6390a",
   "metadata": {},
   "source": [
    "# Section 7: Preparation before Modeling"
   ]
  },
  {
   "cell_type": "markdown",
   "id": "581b7e51",
   "metadata": {},
   "source": [
    "## Step 1: Prepare the Modeling Dataset"
   ]
  },
  {
   "cell_type": "code",
   "execution_count": 19,
   "id": "21fb6055",
   "metadata": {},
   "outputs": [
    {
     "data": {
      "text/plain": [
       "DataFrame[INJURIES_TOTAL: int, INJURIES_FATAL: string, MOST_SEVERE_INJURY: string, CRASH_TYPE: string, FIRST_CRASH_TYPE: string, POSTED_SPEED_LIMIT: string, TRAFFIC_CONTROL_DEVICE: string, DEVICE_CONDITION: string, WEATHER_CONDITION: string, LIGHTING_CONDITION: string, ROADWAY_SURFACE_COND: string, PRIM_CONTRIBUTORY_CAUSE: string, SEC_CONTRIBUTORY_CAUSE: string, CRASH_HOUR: string, CRASH_DAY_OF_WEEK: string, CRASH_MONTH: string, VEHICLE_TYPE: string, MANEUVER: string]"
      ]
     },
     "execution_count": 19,
     "metadata": {},
     "output_type": "execute_result"
    }
   ],
   "source": [
    "# Drop rows with missing MOST_SEVERE_INJURY\n",
    "model_df_clean = model_df.filter(model_df[\"MOST_SEVERE_INJURY\"].isNotNull())\n",
    "\n",
    "model_df_clean.cache()"
   ]
  },
  {
   "cell_type": "markdown",
   "id": "03b47e28",
   "metadata": {},
   "source": [
    "## Step 2: Basic Label Encoding (String → Index for Classification)"
   ]
  },
  {
   "cell_type": "code",
   "execution_count": 20,
   "id": "3354c339",
   "metadata": {},
   "outputs": [],
   "source": [
    "from pyspark.ml.feature import StringIndexer\n",
    "\n",
    "# Create a label indexer for the target column\n",
    "label_indexer = StringIndexer(\n",
    "    inputCol=\"MOST_SEVERE_INJURY\",\n",
    "    outputCol=\"label\"\n",
    ")\n",
    "\n",
    "# Fit and transform\n",
    "model_df_labeled = label_indexer.fit(model_df_clean).transform(model_df_clean)\n",
    "\n",
    "# We will use model_df_labeled going forward\n",
    "final_model_df = model_df_labeled"
   ]
  },
  {
   "cell_type": "markdown",
   "id": "580534d6",
   "metadata": {},
   "source": [
    "## Step 3: Define Feature Columns for Modeling"
   ]
  },
  {
   "cell_type": "code",
   "execution_count": 21,
   "id": "52fd1f12",
   "metadata": {},
   "outputs": [],
   "source": [
    "# Feature Columns\n",
    "feature_cols = [\n",
    "    \"POSTED_SPEED_LIMIT\",\n",
    "    \"WEATHER_CONDITION\",\n",
    "    \"LIGHTING_CONDITION\",\n",
    "    \"FIRST_CRASH_TYPE\",\n",
    "    \"ROADWAY_SURFACE_COND\",\n",
    "    \"PRIM_CONTRIBUTORY_CAUSE\",\n",
    "    \"CRASH_HOUR\",\n",
    "    \"CRASH_DAY_OF_WEEK\",\n",
    "    \"CRASH_MONTH\",\n",
    "    \"VEHICLE_TYPE\",\n",
    "    \"MANEUVER\"\n",
    "]"
   ]
  },
  {
   "cell_type": "markdown",
   "id": "d30a8879",
   "metadata": {},
   "source": [
    "## Step 4: Feature Engineering (Pipeline Setup)\n"
   ]
  },
  {
   "cell_type": "code",
   "execution_count": 22,
   "id": "fb74a435",
   "metadata": {},
   "outputs": [],
   "source": [
    "from pyspark.ml.feature import StringIndexer, OneHotEncoder, VectorAssembler\n",
    "\n",
    "# Categorical Columns\n",
    "categorical_cols = [\n",
    "    \"WEATHER_CONDITION\", \"LIGHTING_CONDITION\", \"FIRST_CRASH_TYPE\",\n",
    "    \"ROADWAY_SURFACE_COND\", \"PRIM_CONTRIBUTORY_CAUSE\",\n",
    "    \"VEHICLE_TYPE\", \"MANEUVER\"\n",
    "]\n",
    "\n",
    "# 1. String Indexers\n",
    "indexers = [\n",
    "    StringIndexer(inputCol=col, outputCol=col+\"_index\", handleInvalid=\"keep\")\n",
    "    for col in categorical_cols\n",
    "]\n",
    "\n",
    "# 2. One Hot Encoders\n",
    "encoders = [\n",
    "    OneHotEncoder(inputCol=col+\"_index\", outputCol=col+\"_ohe\")\n",
    "    for col in categorical_cols\n",
    "]\n",
    "\n",
    "# 3. Vector Assembler (Numeric + Encoded Categorical)\n",
    "assembler = VectorAssembler(\n",
    "    inputCols=[\n",
    "        \"POSTED_SPEED_LIMIT\",\n",
    "        \"CRASH_HOUR\",\n",
    "        \"CRASH_DAY_OF_WEEK\",\n",
    "        \"CRASH_MONTH\"\n",
    "    ] + [col+\"_ohe\" for col in categorical_cols],\n",
    "    outputCol=\"features\"\n",
    ")"
   ]
  },
  {
   "cell_type": "markdown",
   "id": "85767069",
   "metadata": {},
   "source": [
    "🔹 Selected Features: 11 total (7 categorical + 4 numeric)\n",
    "\n",
    "🔹 Categorical Features: - WEATHER_CONDITION - LIGHTING_CONDITION - FIRST_CRASH_TYPE - ROADWAY_SURFACE_COND - PRIM_CONTRIBUTORY_CAUSE - VEHICLE_TYPE - MANEUVER\n",
    "\n",
    "🔹 Numeric Features: - POSTED_SPEED_LIMIT - CRASH_HOUR - CRASH_DAY_OF_WEEK - CRASH_MONTH\n",
    "\n",
    "🔹 Preprocessing Steps: - StringIndex + OneHotEncode categorical features - Assemble all features into a single vector for ML"
   ]
  },
  {
   "cell_type": "markdown",
   "id": "9dc8c9b9",
   "metadata": {},
   "source": [
    "## Step 5: Prepare Train/Test Split"
   ]
  },
  {
   "cell_type": "code",
   "execution_count": 23,
   "id": "7c94702b",
   "metadata": {},
   "outputs": [
    {
     "name": "stdout",
     "output_type": "stream",
     "text": [
      "✅ Split complete: Train = 1649060 , Test = 411549\n"
     ]
    }
   ],
   "source": [
    "# Split into train and test sets\n",
    "train_data, test_data = model_df_labeled.randomSplit([0.8, 0.2], seed=42)\n",
    "\n",
    "print(\"✅ Split complete: Train =\", train_data.count(), \", Test =\", test_data.count())"
   ]
  },
  {
   "cell_type": "markdown",
   "id": "4452d33d",
   "metadata": {},
   "source": [
    "## Step 6: Cast numeric features properly\n"
   ]
  },
  {
   "cell_type": "code",
   "execution_count": 24,
   "id": "a67b08ac",
   "metadata": {},
   "outputs": [
    {
     "name": "stdout",
     "output_type": "stream",
     "text": [
      "✅ Numeric columns successfully cast to integer type.\n"
     ]
    }
   ],
   "source": [
    "from pyspark.sql.functions import col\n",
    "\n",
    "numeric_cols = [\"POSTED_SPEED_LIMIT\", \"CRASH_HOUR\", \"CRASH_DAY_OF_WEEK\", \"CRASH_MONTH\"]\n",
    "\n",
    "for col_name in numeric_cols:\n",
    "    train_data = train_data.withColumn(col_name, col(col_name).cast(\"int\"))\n",
    "    test_data = test_data.withColumn(col_name, col(col_name).cast(\"int\"))\n",
    "\n",
    "print(\"✅ Numeric columns successfully cast to integer type.\")"
   ]
  },
  {
   "cell_type": "markdown",
   "id": "9e897f57",
   "metadata": {},
   "source": [
    "# Phase 7: Logistic Regression Model"
   ]
  },
  {
   "cell_type": "markdown",
   "id": "a459a71a",
   "metadata": {},
   "source": [
    "## Step 1: Define and Train Logistic Regression Model"
   ]
  },
  {
   "cell_type": "code",
   "execution_count": 25,
   "id": "6ae28005",
   "metadata": {},
   "outputs": [],
   "source": [
    "from pyspark.ml import Pipeline\n",
    "from pyspark.ml.classification import LogisticRegression\n",
    "from pyspark.ml.feature import StringIndexer, OneHotEncoder, VectorAssembler\n",
    "\n",
    "# 1. Define Logistic Regression Model\n",
    "lr = LogisticRegression(featuresCol=\"features\", labelCol=\"label\", maxIter=20)\n",
    "\n",
    "# 2. Build full pipeline\n",
    "pipeline_lr = Pipeline(stages=indexers + encoders + [assembler, lr])\n",
    "\n",
    "# 3. Train the model\n",
    "model_lr = pipeline_lr.fit(train_data)\n",
    "\n",
    "# 4. Predict on the test data\n",
    "predictions_lr = model_lr.transform(test_data)"
   ]
  },
  {
   "cell_type": "markdown",
   "id": "bf063a4c",
   "metadata": {},
   "source": [
    "## Step 2: Evaluate Logistic Regression Model"
   ]
  },
  {
   "cell_type": "code",
   "execution_count": 26,
   "id": "d512efe0",
   "metadata": {},
   "outputs": [
    {
     "name": "stdout",
     "output_type": "stream",
     "text": [
      "✅ Logistic Regression Model Metrics:\n",
      "- Accuracy: 0.8332\n",
      "- F1 Score: 0.7781\n",
      "- Weighted Precision: 0.7545\n",
      "- Weighted Recall: 0.8332\n"
     ]
    }
   ],
   "source": [
    "from pyspark.ml.evaluation import MulticlassClassificationEvaluator\n",
    "\n",
    "# Define evaluators\n",
    "evaluator_accuracy = MulticlassClassificationEvaluator(labelCol=\"label\", predictionCol=\"prediction\", metricName=\"accuracy\")\n",
    "evaluator_f1 = MulticlassClassificationEvaluator(labelCol=\"label\", predictionCol=\"prediction\", metricName=\"f1\")\n",
    "evaluator_precision = MulticlassClassificationEvaluator(labelCol=\"label\", predictionCol=\"prediction\", metricName=\"weightedPrecision\")\n",
    "evaluator_recall = MulticlassClassificationEvaluator(labelCol=\"label\", predictionCol=\"prediction\", metricName=\"weightedRecall\")\n",
    "\n",
    "# Calculate metrics\n",
    "accuracy_lr = evaluator_accuracy.evaluate(predictions_lr)\n",
    "f1_lr = evaluator_f1.evaluate(predictions_lr)\n",
    "precision_lr = evaluator_precision.evaluate(predictions_lr)\n",
    "recall_lr = evaluator_recall.evaluate(predictions_lr)\n",
    "\n",
    "# Print results\n",
    "print(\"✅ Logistic Regression Model Metrics:\")\n",
    "print(f\"- Accuracy: {accuracy_lr:.4f}\")\n",
    "print(f\"- F1 Score: {f1_lr:.4f}\")\n",
    "print(f\"- Weighted Precision: {precision_lr:.4f}\")\n",
    "print(f\"- Weighted Recall: {recall_lr:.4f}\")"
   ]
  },
  {
   "cell_type": "markdown",
   "id": "5c960399",
   "metadata": {},
   "source": [
    "### Interpretation\n",
    "\n",
    "Accuracy (~83.3%) means that the model predicts the correct injury category for about 8 out of 10 crashes — solid baseline performance for a multi-class problem with class imbalance.\n",
    "\n",
    "F1 Score (~77.8%) suggests that the model has a good balance between precision (correctness of positive predictions) and recall (coverage of positive cases).\n",
    "\n",
    "Weighted Precision (~75.45%) is slightly lower than recall, indicating that some false positives exist, especially in minority classes (e.g., \"Fatal\").\n",
    "\n",
    "Weighted Recall (~83.32%) matches accuracy, meaning the model retrieves most of the actual classes well.\n",
    "\n",
    "**Baseline Comparison**\n",
    "\n",
    "In multi-class classification, a random classifier would have an accuracy roughly proportional to class imbalance.\n",
    "\n",
    "Given:\n",
    "\n",
    "- Majority class (\"NO INJURY\") ≈ 82%\n",
    "- A dummy classifier always predicting \"NO INJURY\" would achieve ~82% accuracy.\n",
    "\n",
    "✅ Our Logistic Regression model achieves ~83.3%, slightly better than dummy, but not enough yet for production.\n",
    "\n",
    "💡 Conclusion:\n",
    "\n",
    "- Decent first baseline\n",
    "\n",
    "- Need stronger models (Random Forest, GBT) to push beyond dummy classifier substantially."
   ]
  },
  {
   "cell_type": "markdown",
   "id": "11782c2c",
   "metadata": {},
   "source": [
    "## Step 3: Visualization for Logistic Regression"
   ]
  },
  {
   "cell_type": "code",
   "execution_count": 27,
   "id": "553ed128",
   "metadata": {},
   "outputs": [
    {
     "data": {
      "image/png": "[encoded data removed]",
      "text/plain": [
       "<Figure size 800x500 with 1 Axes>"
      ]
     },
     "metadata": {},
     "output_type": "display_data"
    }
   ],
   "source": [
    "import matplotlib.pyplot as plt\n",
    "\n",
    "# Metric names and values\n",
    "metrics = ['Accuracy', 'F1 Score', 'Weighted Precision', 'Weighted Recall']\n",
    "values = [accuracy_lr, f1_lr, precision_lr, recall_lr]\n",
    "\n",
    "# Create a bar plot\n",
    "plt.figure(figsize=(8, 5))\n",
    "plt.bar(metrics, values)\n",
    "plt.ylim(0, 1)\n",
    "plt.title('Logistic Regression Model Metrics')\n",
    "plt.ylabel('Score')\n",
    "plt.show()"
   ]
  },
  {
   "cell_type": "markdown",
   "id": "4258fda5",
   "metadata": {},
   "source": [
    "# Phase 8: Decision Tree Classifier"
   ]
  },
  {
   "cell_type": "markdown",
   "id": "4dd570f2",
   "metadata": {},
   "source": [
    "## Step 1: Train a Decision Tree Model"
   ]
  },
  {
   "cell_type": "code",
   "execution_count": 28,
   "id": "2660bf0d",
   "metadata": {},
   "outputs": [],
   "source": [
    "from pyspark.ml.classification import DecisionTreeClassifier\n",
    "from pyspark.ml import Pipeline\n",
    "\n",
    "# 1. Define Decision Tree Classifier\n",
    "dt = DecisionTreeClassifier(featuresCol=\"features\", labelCol=\"label\", maxDepth=10)\n",
    "\n",
    "# 2. Build Pipeline\n",
    "pipeline_dt = Pipeline(stages=indexers + encoders + [assembler, dt])\n",
    "\n",
    "# 3. Train the model\n",
    "model_dt = pipeline_dt.fit(train_data)\n",
    "\n",
    "# 4. Predict on the test data\n",
    "predictions_dt = model_dt.transform(test_data)"
   ]
  },
  {
   "cell_type": "markdown",
   "id": "e52268b1",
   "metadata": {},
   "source": [
    "## Step 2: Evaluate the Decision Tree Model"
   ]
  },
  {
   "cell_type": "code",
   "execution_count": 29,
   "id": "6b96c4d0",
   "metadata": {},
   "outputs": [
    {
     "name": "stdout",
     "output_type": "stream",
     "text": [
      "✅ Decision Tree Model Metrics:\n",
      "- Accuracy: 0.8339\n",
      "- F1 Score: 0.7792\n",
      "- Weighted Precision: 0.7812\n",
      "- Weighted Recall: 0.8339\n"
     ]
    }
   ],
   "source": [
    "# Calculate metrics\n",
    "accuracy_dt = evaluator_accuracy.evaluate(predictions_dt)\n",
    "f1_dt = evaluator_f1.evaluate(predictions_dt)\n",
    "precision_dt = evaluator_precision.evaluate(predictions_dt)\n",
    "recall_dt = evaluator_recall.evaluate(predictions_dt)\n",
    "\n",
    "# Print results\n",
    "print(\"✅ Decision Tree Model Metrics:\")\n",
    "print(f\"- Accuracy: {accuracy_dt:.4f}\")\n",
    "print(f\"- F1 Score: {f1_dt:.4f}\")\n",
    "print(f\"- Weighted Precision: {precision_dt:.4f}\")\n",
    "print(f\"- Weighted Recall: {recall_dt:.4f}\")"
   ]
  },
  {
   "cell_type": "markdown",
   "id": "210e6acb",
   "metadata": {},
   "source": [
    "### Interpretation\n",
    "\n",
    "📊 Comparison Against Baseline\n",
    "\n",
    "| Model                     | Accuracy | F1 Score | Notes                                      |\n",
    "|---------------------------|----------|----------|--------------------------------------------|\n",
    "| Baseline (Logistic Regression) | 0.8332   | 0.7781   | Simple linear model                         |\n",
    "| Decision Tree             | 0.8339   | 0.7792   | Slightly better accuracy and F1             |\n",
    "\n",
    "✅ **Decision Tree** performs marginally better than Logistic Regression — a good sign that tree-based models can capture non-linear interactions between crash factors.\n"
   ]
  },
  {
   "cell_type": "markdown",
   "id": "79485fda",
   "metadata": {},
   "source": [
    "## Step 3: Visualization for Decision Tree"
   ]
  },
  {
   "cell_type": "code",
   "execution_count": 30,
   "id": "fc694eac",
   "metadata": {},
   "outputs": [
    {
     "data": {
      "image/png": "[encoded data removed]",
      "text/plain": [
       "<Figure size 800x500 with 1 Axes>"
      ]
     },
     "metadata": {},
     "output_type": "display_data"
    }
   ],
   "source": [
    "import matplotlib.pyplot as plt\n",
    "\n",
    "# Metric names and values\n",
    "metrics_dt = ['Accuracy', 'F1 Score', 'Weighted Precision', 'Weighted Recall']\n",
    "values_dt = [accuracy_dt, f1_dt, precision_dt, recall_dt]\n",
    "\n",
    "# Create a bar plot\n",
    "plt.figure(figsize=(8, 5))\n",
    "plt.bar(metrics_dt, values_dt)\n",
    "plt.ylim(0, 1)\n",
    "plt.title('Decision Tree Model Metrics')\n",
    "plt.ylabel('Score')\n",
    "plt.show()"
   ]
  },
  {
   "cell_type": "markdown",
   "id": "9dbf2ba9",
   "metadata": {},
   "source": [
    "# Phase 9: Random Forest"
   ]
  },
  {
   "cell_type": "markdown",
   "id": "55e65c06",
   "metadata": {},
   "source": [
    "## Step 1: Train Random Forest Model"
   ]
  },
  {
   "cell_type": "code",
   "execution_count": 31,
   "id": "219d7540",
   "metadata": {},
   "outputs": [],
   "source": [
    "from pyspark.ml.classification import RandomForestClassifier\n",
    "\n",
    "# Define the Random Forest Classifier\n",
    "rf = RandomForestClassifier(\n",
    "    featuresCol=\"features\",\n",
    "    labelCol=\"label\",\n",
    "    numTrees=100,  # Number of trees\n",
    "    maxDepth=10,   # Control tree depth to avoid overfitting\n",
    "    seed=42\n",
    ")\n",
    "\n",
    "# Build a new pipeline\n",
    "pipeline_rf = Pipeline(stages=indexers + encoders + [assembler, rf])\n",
    "\n",
    "# Train the Random Forest model\n",
    "model_rf = pipeline_rf.fit(train_data)\n",
    "\n",
    "# Predict on the test set\n",
    "predictions_rf = model_rf.transform(test_data)"
   ]
  },
  {
   "cell_type": "markdown",
   "id": "b5772f45",
   "metadata": {},
   "source": [
    "## Step 2: Evaluate Random Forest Model"
   ]
  },
  {
   "cell_type": "code",
   "execution_count": 32,
   "id": "a3f96e94",
   "metadata": {},
   "outputs": [
    {
     "name": "stdout",
     "output_type": "stream",
     "text": [
      "✅ Random Forest Model Metrics:\n",
      "- Accuracy: 0.8229\n",
      "- F1 Score: 0.7460\n",
      "- Weighted Precision: 0.7358\n",
      "- Weighted Recall: 0.8229\n"
     ]
    }
   ],
   "source": [
    "# Calculate metrics\n",
    "accuracy_rf = evaluator_accuracy.evaluate(predictions_rf)\n",
    "f1_rf = evaluator_f1.evaluate(predictions_rf)\n",
    "precision_rf = evaluator_precision.evaluate(predictions_rf)\n",
    "recall_rf = evaluator_recall.evaluate(predictions_rf)\n",
    "\n",
    "# Print results\n",
    "print(\"✅ Random Forest Model Metrics:\")\n",
    "print(f\"- Accuracy: {accuracy_rf:.4f}\")\n",
    "print(f\"- F1 Score: {f1_rf:.4f}\")\n",
    "print(f\"- Weighted Precision: {precision_rf:.4f}\")\n",
    "print(f\"- Weighted Recall: {recall_rf:.4f}\")"
   ]
  },
  {
   "cell_type": "markdown",
   "id": "171013de",
   "metadata": {},
   "source": [
    "### Interpretation:\n",
    "\n",
    "Random Forest was expected to perform better, but actually did worse.\n",
    "\n",
    "Likely because:\n",
    "\n",
    "- Most features are categorical → simpler models capture patterns efficiently.\n",
    "\n",
    "- The dataset has some strong majority classes (like \"No Injury\") that simpler models already capture well."
   ]
  },
  {
   "cell_type": "markdown",
   "id": "36377534",
   "metadata": {},
   "source": [
    "## Step 3: Visualization for Random Forest"
   ]
  },
  {
   "cell_type": "code",
   "execution_count": 33,
   "id": "476e5fbc",
   "metadata": {},
   "outputs": [
    {
     "data": {
      "image/png": "[encoded data removed]",
      "text/plain": [
       "<Figure size 800x500 with 1 Axes>"
      ]
     },
     "metadata": {},
     "output_type": "display_data"
    }
   ],
   "source": [
    "import matplotlib.pyplot as plt\n",
    "\n",
    "# Metric names and values\n",
    "metrics_rf = ['Accuracy', 'F1 Score', 'Weighted Precision', 'Weighted Recall']\n",
    "values_rf = [accuracy_rf, f1_rf, precision_rf, recall_rf]\n",
    "\n",
    "# Create a bar plot\n",
    "plt.figure(figsize=(8, 5))\n",
    "plt.bar(metrics_rf, values_rf)\n",
    "plt.ylim(0, 1)\n",
    "plt.title('Random Forest Model Metrics')\n",
    "plt.ylabel('Score')\n",
    "plt.show()"
   ]
  },
  {
   "cell_type": "markdown",
   "id": "5d76d198",
   "metadata": {},
   "source": [
    "# Phase 10: GBTClassifier"
   ]
  },
  {
   "cell_type": "markdown",
   "id": "d13e4cd4",
   "metadata": {},
   "source": [
    "## Step 1: Create Binary Label Column"
   ]
  },
  {
   "cell_type": "code",
   "execution_count": 34,
   "id": "ae2c319e",
   "metadata": {},
   "outputs": [],
   "source": [
    "from pyspark.sql.functions import when, col\n",
    "\n",
    "# Create binary label: 1 if FATAL, 0 otherwise\n",
    "binary_df = final_model_df.withColumn(\n",
    "    \"label\",\n",
    "    when(col(\"MOST_SEVERE_INJURY\") == \"FATAL\", 1).otherwise(0)\n",
    ")"
   ]
  },
  {
   "cell_type": "markdown",
   "id": "9925e02b",
   "metadata": {},
   "source": [
    "## Step 2: Split Train/Test"
   ]
  },
  {
   "cell_type": "code",
   "execution_count": 35,
   "id": "8621ab93",
   "metadata": {},
   "outputs": [
    {
     "name": "stdout",
     "output_type": "stream",
     "text": [
      "Train count: 1649060\n",
      "Test count: 411549\n"
     ]
    }
   ],
   "source": [
    "# Split the binary dataset\n",
    "train_bin, test_bin = binary_df.randomSplit([0.8, 0.2], seed=42)\n",
    "\n",
    "print(\"Train count:\", train_bin.count())\n",
    "print(\"Test count:\", test_bin.count())"
   ]
  },
  {
   "cell_type": "markdown",
   "id": "b8288ab0",
   "metadata": {},
   "source": [
    "## Step 3: Cast numeric columns to Integer before fitting the pipeline"
   ]
  },
  {
   "cell_type": "code",
   "execution_count": 36,
   "id": "59b0645e",
   "metadata": {},
   "outputs": [
    {
     "name": "stdout",
     "output_type": "stream",
     "text": [
      "✅ Numeric columns successfully cast to int.\n"
     ]
    }
   ],
   "source": [
    "from pyspark.sql.functions import col\n",
    "\n",
    "# Cast necessary columns to Integer\n",
    "train_bin = train_bin.withColumn(\"POSTED_SPEED_LIMIT\", col(\"POSTED_SPEED_LIMIT\").cast(\"int\")) \\\n",
    "                     .withColumn(\"CRASH_HOUR\", col(\"CRASH_HOUR\").cast(\"int\")) \\\n",
    "                     .withColumn(\"CRASH_DAY_OF_WEEK\", col(\"CRASH_DAY_OF_WEEK\").cast(\"int\")) \\\n",
    "                     .withColumn(\"CRASH_MONTH\", col(\"CRASH_MONTH\").cast(\"int\"))\n",
    "\n",
    "test_bin = test_bin.withColumn(\"POSTED_SPEED_LIMIT\", col(\"POSTED_SPEED_LIMIT\").cast(\"int\")) \\\n",
    "                   .withColumn(\"CRASH_HOUR\", col(\"CRASH_HOUR\").cast(\"int\")) \\\n",
    "                   .withColumn(\"CRASH_DAY_OF_WEEK\", col(\"CRASH_DAY_OF_WEEK\").cast(\"int\")) \\\n",
    "                   .withColumn(\"CRASH_MONTH\", col(\"CRASH_MONTH\").cast(\"int\"))\n",
    "\n",
    "print(\"✅ Numeric columns successfully cast to int.\")"
   ]
  },
  {
   "cell_type": "markdown",
   "id": "598d5e14",
   "metadata": {},
   "source": [
    "## Step 4: Train GBT Model on Binary Classification"
   ]
  },
  {
   "cell_type": "code",
   "execution_count": 37,
   "id": "86351caf",
   "metadata": {},
   "outputs": [],
   "source": [
    "from pyspark.ml.classification import GBTClassifier\n",
    "from pyspark.ml import Pipeline\n",
    "\n",
    "# Define GBTClassifier\n",
    "gbt_bin = GBTClassifier(labelCol=\"label\", featuresCol=\"features\", maxIter=30)\n",
    "\n",
    "# Reuse your existing indexers, encoders, and assembler\n",
    "pipeline_gbt_bin = Pipeline(stages=indexers + encoders + [assembler, gbt_bin])\n",
    "\n",
    "# Train\n",
    "model_gbt_bin = pipeline_gbt_bin.fit(train_bin)\n",
    "\n",
    "# Predict\n",
    "predictions_gbt_bin = model_gbt_bin.transform(test_bin)"
   ]
  },
  {
   "cell_type": "markdown",
   "id": "1c346a57",
   "metadata": {},
   "source": [
    "## Step 5: Evaluate GBT Model (Binary) "
   ]
  },
  {
   "cell_type": "code",
   "execution_count": 38,
   "id": "d38e4318",
   "metadata": {},
   "outputs": [
    {
     "name": "stdout",
     "output_type": "stream",
     "text": [
      "✅ GBT (Binary) Model Metrics:\n",
      "- ROC AUC: 0.8543\n",
      "- PR AUC: 0.0745\n"
     ]
    }
   ],
   "source": [
    "from pyspark.ml.evaluation import BinaryClassificationEvaluator\n",
    "\n",
    "evaluator_bin_acc = BinaryClassificationEvaluator(labelCol=\"label\", rawPredictionCol=\"rawPrediction\", metricName=\"areaUnderROC\")\n",
    "evaluator_bin_pr = BinaryClassificationEvaluator(labelCol=\"label\", rawPredictionCol=\"rawPrediction\", metricName=\"areaUnderPR\")\n",
    "\n",
    "# Metrics\n",
    "roc_auc = evaluator_bin_acc.evaluate(predictions_gbt_bin)\n",
    "pr_auc = evaluator_bin_pr.evaluate(predictions_gbt_bin)\n",
    "\n",
    "print(\"✅ GBT (Binary) Model Metrics:\")\n",
    "print(f\"- ROC AUC: {roc_auc:.4f}\")\n",
    "print(f\"- PR AUC: {pr_auc:.4f}\")"
   ]
  },
  {
   "cell_type": "markdown",
   "id": "6cce4dfe",
   "metadata": {},
   "source": [
    "### Interpretation:\n",
    "\n",
    "ROC AUC ~ 0.85 is strong — the GBT model is good at ranking crash severity risk even though it’s a difficult (imbalanced) problem.\n",
    "\n",
    "PR AUC ~ 0.07 is expectedly low — because fatal crashes are very rare (~0.13% of all crashes), the model struggles to achieve high precision (too few positive samples).\n",
    "\n",
    "This behavior is normal in highly imbalanced binary classification tasks (very small positive class)."
   ]
  },
  {
   "cell_type": "markdown",
   "id": "aef38af3",
   "metadata": {},
   "source": [
    "## Step 6: Visualization"
   ]
  },
  {
   "cell_type": "code",
   "execution_count": 39,
   "id": "17693db4",
   "metadata": {},
   "outputs": [
    {
     "data": {
      "image/png": "[encoded data removed]",
      "text/plain": [
       "<Figure size 700x400 with 1 Axes>"
      ]
     },
     "metadata": {},
     "output_type": "display_data"
    }
   ],
   "source": [
    "import matplotlib.pyplot as plt\n",
    "\n",
    "# Metric names and values\n",
    "metrics_gbt_bin = ['ROC AUC', 'PR AUC']\n",
    "values_gbt_bin = [roc_auc, pr_auc]\n",
    "\n",
    "# Bar Plot\n",
    "plt.figure(figsize=(7, 4))\n",
    "plt.bar(metrics_gbt_bin, values_gbt_bin)\n",
    "plt.ylim(0, 1)\n",
    "plt.title('GBT Classifier (Binary - FATAL vs Non-Fatal)')\n",
    "plt.ylabel('Score')\n",
    "plt.show()"
   ]
  },
  {
   "cell_type": "markdown",
   "id": "3e838b0f",
   "metadata": {},
   "source": [
    "# Phase 11: Final Modeling Comparison Summary"
   ]
  },
  {
   "cell_type": "code",
   "execution_count": 40,
   "id": "3dbe9af8",
   "metadata": {},
   "outputs": [
    {
     "data": {
      "image/png": "[encoded data removed]",
      "text/plain": [
       "<Figure size 1400x1000 with 4 Axes>"
      ]
     },
     "metadata": {},
     "output_type": "display_data"
    }
   ],
   "source": [
    "import matplotlib.pyplot as plt\n",
    "\n",
    "# Define all metrics and values\n",
    "models = ['Logistic Regression', 'Decision Tree', 'Random Forest', 'GBT Classifier (Binary)']\n",
    "all_metrics = [\n",
    "    ['Accuracy', 'F1 Score', 'Weighted Precision', 'Weighted Recall'],\n",
    "    ['Accuracy', 'F1 Score', 'Weighted Precision', 'Weighted Recall'],\n",
    "    ['Accuracy', 'F1 Score', 'Weighted Precision', 'Weighted Recall'],\n",
    "    ['ROC AUC', 'PR AUC']\n",
    "]\n",
    "all_values = [\n",
    "    [accuracy_lr, f1_lr, precision_lr, recall_lr],\n",
    "    [accuracy_dt, f1_dt, precision_dt, recall_dt],\n",
    "    [accuracy_rf, f1_rf, precision_rf, recall_rf],\n",
    "    [roc_auc, pr_auc]\n",
    "]\n",
    "\n",
    "# Create a 2x2 subplot\n",
    "fig, axs = plt.subplots(2, 2, figsize=(14, 10))\n",
    "axs = axs.flatten()\n",
    "\n",
    "# Loop through and plot each model's metrics\n",
    "for i in range(4):\n",
    "    axs[i].bar(all_metrics[i], all_values[i])\n",
    "    axs[i].set_ylim(0, 1)\n",
    "    axs[i].set_title(models[i])\n",
    "    axs[i].set_ylabel('Score')\n",
    "\n",
    "# Add overall title and layout spacing\n",
    "plt.suptitle('Model Evaluation Dashboard', fontsize=16)\n",
    "plt.tight_layout(rect=[0, 0, 1, 0.96])\n",
    "plt.show()\n"
   ]
  },
  {
   "cell_type": "markdown",
   "id": "b8e9133f",
   "metadata": {},
   "source": [
    "## Modeling Comparison Summary\n",
    "\n",
    "| Model                     | Task Type                  | Accuracy | F1 Score | ROC AUC | PR AUC | Key Observations                                            |\n",
    "|---------------------------|----------------------------|----------|----------|---------|--------|-------------------------------------------------------------|\n",
    "| Logistic Regression       | Multi-Class                | 0.8332   | 0.7781   | N/A     | N/A    | Solid baseline model                                        |\n",
    "| Decision Tree Classifier | Multi-Class                | 0.8339   | 0.7792   | N/A     | N/A    | Slight improvement over Logistic Regression                |\n",
    "| Random Forest Classifier | Multi-Class                | 0.8229   | 0.7460   | N/A     | N/A    | Lower performance compared to Decision Tree                |\n",
    "| GBT Classifier (Binary)  | Binary (Fatal vs Non-Fatal) | N/A      | N/A      | 0.8543  | 0.0745 | Strong ROC AUC; handles rare fatalities better             |\n",
    "\n",
    "---\n",
    "\n",
    "✅ Key Takeaways\n",
    "\n",
    "- **Decision Tree** slightly outperforms Logistic Regression for the multi-class injury prediction.\n",
    "- **Random Forest** surprisingly underperforms compared to the simpler Decision Tree (likely overfitting or noise sensitivity).\n",
    "- **GBT (Binary)** model shows excellent ability to separate rare fatal crashes (ROC AUC = 0.8543), although **Precision-Recall AUC** is low because fatal crashes are extremely rare (~0.1%).\n",
    "\n",
    "📌 Recommendation\n",
    "\n",
    "- For predicting **injury severity overall** → use **Decision Tree Classifier**.\n",
    "- For specifically predicting **fatal crashes** → use **GBT Binary Classifier**.\n"
   ]
  }
 ],
 "metadata": {
  "kernelspec": {
   "display_name": "Python 3",
   "language": "python",
   "name": "python3"
  },
  "language_info": {
   "codemirror_mode": {
    "name": "ipython",
    "version": 3
   },
   "file_extension": ".py",
   "mimetype": "text/x-python",
   "name": "python",
   "nbconvert_exporter": "python",
   "pygments_lexer": "ipython3",
   "version": "3.12.6"
  }
 },
 "nbformat": 4,
 "nbformat_minor": 5
}
