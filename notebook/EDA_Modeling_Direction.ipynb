{
 "cells": [
  {
   "cell_type": "markdown",
   "metadata": {
    "application/vnd.databricks.v1+cell": {
     "cellMetadata": {
      "byteLimit": 2048000,
      "rowLimit": 10000
     },
     "inputWidgets": {},
     "nuid": "7dd14613-3c2e-4bd1-93df-f384d532a111",
     "showTitle": false,
     "tableResultSettingsMap": {},
     "title": ""
    }
   },
   "source": [
    "# Phase 1: Load and Join Data"
   ]
  },
  {
   "cell_type": "markdown",
   "metadata": {
    "application/vnd.databricks.v1+cell": {
     "cellMetadata": {
      "byteLimit": 2048000,
      "rowLimit": 10000
     },
     "inputWidgets": {},
     "nuid": "118bac45-599a-4265-a46a-9822b7a62368",
     "showTitle": false,
     "tableResultSettingsMap": {},
     "title": ""
    }
   },
   "source": [
    "## Step 1: Load the 3 CSV files into Spark DataFrames"
   ]
  },
  {
   "cell_type": "code",
   "execution_count": 0,
   "metadata": {
    "application/vnd.databricks.v1+cell": {
     "cellMetadata": {
      "byteLimit": 2048000,
      "rowLimit": 10000
     },
     "inputWidgets": {},
     "nuid": "af2a07d7-61ef-47ea-ad16-bf4faecd6acd",
     "showTitle": false,
     "tableResultSettingsMap": {},
     "title": ""
    }
   },
   "outputs": [],
   "source": [
    "# Load Crashes dataset\n",
    "crashes_df = spark.read.option(\"header\", True).option(\"inferSchema\", True).csv(\"/FileStore/Final Project Data/Traffic_Crashes___Crashes_20250425.csv\")\n",
    "\n",
    "# Load Vehicles dataset\n",
    "vehicles_df = spark.read.option(\"header\", True).option(\"inferSchema\", True).csv(\"/FileStore/Final Project Data/Traffic_Crashes___Vehicles_20250425.csv\")\n",
    "\n",
    "# Load People dataset\n",
    "people_df = spark.read.option(\"header\", True).option(\"inferSchema\", True).csv(\"/FileStore/Final Project Data/Traffic_Crashes___People_20250425.csv\")"
   ]
  },
  {
   "cell_type": "markdown",
   "metadata": {
    "application/vnd.databricks.v1+cell": {
     "cellMetadata": {
      "byteLimit": 2048000,
      "rowLimit": 10000
     },
     "inputWidgets": {},
     "nuid": "8c1ac334-e0ec-45e0-b6ba-9a2f9ff07e94",
     "showTitle": false,
     "tableResultSettingsMap": {},
     "title": ""
    }
   },
   "source": [
    "## Step 2: Quick Schema and Row Count Check (small EDA)"
   ]
  },
  {
   "cell_type": "code",
   "execution_count": 0,
   "metadata": {
    "application/vnd.databricks.v1+cell": {
     "cellMetadata": {
      "byteLimit": 2048000,
      "rowLimit": 10000
     },
     "inputWidgets": {},
     "nuid": "c1e06c04-4bb8-4601-81e8-80d021a7c3c8",
     "showTitle": false,
     "tableResultSettingsMap": {},
     "title": ""
    }
   },
   "outputs": [],
   "source": [
    "# Check schemas\n",
    "crashes_df.printSchema()\n",
    "vehicles_df.printSchema()\n",
    "people_df.printSchema()\n",
    "\n",
    "# Check row counts\n",
    "print(f\"Crashes: {crashes_df.count()} rows\")\n",
    "print(f\"Vehicles: {vehicles_df.count()} rows\")\n",
    "print(f\"People: {people_df.count()} rows\")"
   ]
  },
  {
   "cell_type": "markdown",
   "metadata": {
    "application/vnd.databricks.v1+cell": {
     "cellMetadata": {
      "byteLimit": 2048000,
      "rowLimit": 10000
     },
     "inputWidgets": {},
     "nuid": "b60a2d56-d3d4-44a2-a293-0cd05cb7c5e3",
     "showTitle": false,
     "tableResultSettingsMap": {},
     "title": ""
    }
   },
   "source": [
    "# Phase 2: Joins"
   ]
  },
  {
   "cell_type": "markdown",
   "metadata": {
    "application/vnd.databricks.v1+cell": {
     "cellMetadata": {
      "byteLimit": 2048000,
      "rowLimit": 10000
     },
     "inputWidgets": {},
     "nuid": "d0757a74-4ecc-496d-b7cb-2411074861c7",
     "showTitle": false,
     "tableResultSettingsMap": {},
     "title": ""
    }
   },
   "source": [
    "## Step 1: Join the Datasets\n",
    "\n",
    "Before joining, we need to rename or drop duplicate columns like CRASH_DATE from vehicles_df and people_df, because:\n",
    "\n",
    "- crashes_df has the most accurate crash-level date\n",
    "\n",
    "- vehicle and people versions are mostly redundant for our big-picture analysis"
   ]
  },
  {
   "cell_type": "code",
   "execution_count": 0,
   "metadata": {
    "application/vnd.databricks.v1+cell": {
     "cellMetadata": {
      "byteLimit": 2048000,
      "rowLimit": 10000
     },
     "inputWidgets": {},
     "nuid": "d17ed60b-0ab4-47b4-a3a2-938cdf49af2a",
     "showTitle": false,
     "tableResultSettingsMap": {},
     "title": ""
    }
   },
   "outputs": [],
   "source": [
    "# Step 1: Drop CRASH_DATE from vehicles and people BEFORE join\n",
    "vehicles_df = vehicles_df.drop(\"CRASH_DATE\")\n",
    "people_df = people_df.drop(\"CRASH_DATE\")\n",
    "\n",
    "# Step 2: Join Crashes and Vehicles\n",
    "crash_vehicle_df = crashes_df.join(\n",
    "    vehicles_df,\n",
    "    on=\"CRASH_RECORD_ID\",\n",
    "    how=\"inner\"\n",
    ")\n",
    "\n",
    "# Step 3: Join Crash-Vehicle with People\n",
    "final_df = crash_vehicle_df.join(\n",
    "    people_df,\n",
    "    on=[\"CRASH_RECORD_ID\", \"VEHICLE_ID\"],\n",
    "    how=\"left\"\n",
    ")\n",
    "\n",
    "# Step 4: Show sample\n",
    "final_df.select(\n",
    "    \"CRASH_RECORD_ID\", \"CRASH_DATE\", \"CRASH_TYPE\", \n",
    "    \"VEHICLE_TYPE\", \"PERSON_TYPE\", \"INJURY_CLASSIFICATION\"\n",
    ").show(5, truncate=False)"
   ]
  },
  {
   "cell_type": "markdown",
   "metadata": {
    "application/vnd.databricks.v1+cell": {
     "cellMetadata": {
      "byteLimit": 2048000,
      "rowLimit": 10000
     },
     "inputWidgets": {},
     "nuid": "997b26fe-752f-4fb3-a2b3-7e0964d8720b",
     "showTitle": false,
     "tableResultSettingsMap": {},
     "title": ""
    }
   },
   "source": [
    "## Step 2: Cache & Save the Final Joined Dataset"
   ]
  },
  {
   "cell_type": "code",
   "execution_count": 0,
   "metadata": {
    "application/vnd.databricks.v1+cell": {
     "cellMetadata": {
      "byteLimit": 2048000,
      "rowLimit": 10000
     },
     "inputWidgets": {},
     "nuid": "a800a8b4-9a8e-4991-a01e-b9a6ea85b3c2",
     "showTitle": false,
     "tableResultSettingsMap": {},
     "title": ""
    }
   },
   "outputs": [],
   "source": [
    "# Cache the DataFrame in memory\n",
    "final_df.cache()\n",
    "\n",
    "# Save as a Parquet file (this will go to DBFS)\n",
    "final_df.write.mode(\"overwrite\").parquet(\"/FileStore/Final Project Data/final_joined_crash_data.parquet\")\n",
    "\n",
    "print(\"✅ Final joined dataset saved as Parquet!\")"
   ]
  },
  {
   "cell_type": "markdown",
   "metadata": {
    "application/vnd.databricks.v1+cell": {
     "cellMetadata": {
      "byteLimit": 2048000,
      "rowLimit": 10000
     },
     "inputWidgets": {},
     "nuid": "dabf1040-634c-4a47-a02e-c15d56487ccc",
     "showTitle": false,
     "tableResultSettingsMap": {},
     "title": ""
    }
   },
   "source": [
    "# Phase 3: Primary EDA (Exploratory Data Analysis)"
   ]
  },
  {
   "cell_type": "markdown",
   "metadata": {
    "application/vnd.databricks.v1+cell": {
     "cellMetadata": {
      "byteLimit": 2048000,
      "rowLimit": 10000
     },
     "inputWidgets": {},
     "nuid": "62e8b046-7c3f-4634-9e86-2ad6a9b8daf1",
     "showTitle": false,
     "tableResultSettingsMap": {},
     "title": ""
    }
   },
   "source": [
    "## Step 1: Load the Cached/Parquet Dataset"
   ]
  },
  {
   "cell_type": "code",
   "execution_count": 0,
   "metadata": {
    "application/vnd.databricks.v1+cell": {
     "cellMetadata": {
      "byteLimit": 2048000,
      "rowLimit": 10000
     },
     "inputWidgets": {},
     "nuid": "f6b1821b-7359-4b84-9a18-c966bb1d2236",
     "showTitle": false,
     "tableResultSettingsMap": {},
     "title": ""
    }
   },
   "outputs": [
    {
     "output_type": "stream",
     "name": "stdout",
     "output_type": "stream",
     "text": [
      "+--------------------+----------+----------------+--------------------+------------------+----------------------+--------------------+-----------------+--------------------+--------------------+---------------+--------+------------------+--------------------+---------------+--------------------+--------------------+----------------------+------------------+-------------+-------------+--------------------+-----------------------+----------------------+---------+----------------+-----------------+------------------+--------------+------------------+---------+-----------+--------------+-----------------+---------+--------------------+--------------+--------------+-----------------------+---------------------------+-----------------------------+----------------------+----------------+----------+-----------------+-----------+-------------+--------------+--------------------+-------------+-------+---------+--------------+----------+-------+--------------------+---------------+------------+--------------+--------------------+-----------+----------------+--------------+-------+------+------------+--------------------+--------+--------+---------+---------+---------+---------+---------+---------+---------+---------+---------+---------+---------+---------+---------+---------+-------------------+------+--------+-------+-------+--------------+----+------------+-------------+------------+-----------------+-----------+-----+----------------+---------------+----------------+------------+-------------+------------------------+---------------------+--------------+-----------+--------------+--------------+---------------+---------------+--------------------+--------+--------------+---------------+---------+-----------------------+--------------------+------------+---------+-----------+-------+-------+-----+-------+----+----+---------------------+---------------------+----------------+------------------+--------+---------------------+--------+----------+----------+-------------+-------------+------------------+---------------+-------------------+-----------------+----------------+----------------+--------------+\n|     CRASH_RECORD_ID|VEHICLE_ID|CRASH_DATE_EST_I|          CRASH_DATE|POSTED_SPEED_LIMIT|TRAFFIC_CONTROL_DEVICE|    DEVICE_CONDITION|WEATHER_CONDITION|  LIGHTING_CONDITION|    FIRST_CRASH_TYPE|TRAFFICWAY_TYPE|LANE_CNT|         ALIGNMENT|ROADWAY_SURFACE_COND|    ROAD_DEFECT|         REPORT_TYPE|          CRASH_TYPE|INTERSECTION_RELATED_I|NOT_RIGHT_OF_WAY_I|HIT_AND_RUN_I|       DAMAGE|DATE_POLICE_NOTIFIED|PRIM_CONTRIBUTORY_CAUSE|SEC_CONTRIBUTORY_CAUSE|STREET_NO|STREET_DIRECTION|      STREET_NAME|BEAT_OF_OCCURRENCE|PHOTOS_TAKEN_I|STATEMENTS_TAKEN_I|DOORING_I|WORK_ZONE_I|WORK_ZONE_TYPE|WORKERS_PRESENT_I|NUM_UNITS|  MOST_SEVERE_INJURY|INJURIES_TOTAL|INJURIES_FATAL|INJURIES_INCAPACITATING|INJURIES_NON_INCAPACITATING|INJURIES_REPORTED_NOT_EVIDENT|INJURIES_NO_INDICATION|INJURIES_UNKNOWN|CRASH_HOUR|CRASH_DAY_OF_WEEK|CRASH_MONTH|     LATITUDE|     LONGITUDE|            LOCATION|CRASH_UNIT_ID|UNIT_NO|UNIT_TYPE|NUM_PASSENGERS|CMRC_VEH_I|   MAKE|               MODEL|LIC_PLATE_STATE|VEHICLE_YEAR|VEHICLE_DEFECT|        VEHICLE_TYPE|VEHICLE_USE|TRAVEL_DIRECTION|      MANEUVER|TOWED_I|FIRE_I|OCCUPANT_CNT|EXCEED_SPEED_LIMIT_I|TOWED_BY|TOWED_TO|AREA_00_I|AREA_01_I|AREA_02_I|AREA_03_I|AREA_04_I|AREA_05_I|AREA_06_I|AREA_07_I|AREA_08_I|AREA_09_I|AREA_10_I|AREA_11_I|AREA_12_I|AREA_99_I|FIRST_CONTACT_POINT|CMV_ID|USDOT_NO|CCMC_NO|ILCC_NO|COMMERCIAL_SRC|GVWR|CARRIER_NAME|CARRIER_STATE|CARRIER_CITY|HAZMAT_PLACARDS_I|HAZMAT_NAME|UN_NO|HAZMAT_PRESENT_I|HAZMAT_REPORT_I|HAZMAT_REPORT_NO|MCS_REPORT_I|MCS_REPORT_NO|HAZMAT_VIO_CAUSE_CRASH_I|MCS_VIO_CAUSE_CRASH_I|IDOT_PERMIT_NO|WIDE_LOAD_I|TRAILER1_WIDTH|TRAILER2_WIDTH|TRAILER1_LENGTH|TRAILER2_LENGTH|TOTAL_VEHICLE_LENGTH|AXLE_CNT|VEHICLE_CONFIG|CARGO_BODY_TYPE|LOAD_TYPE|HAZMAT_OUT_OF_SERVICE_I|MCS_OUT_OF_SERVICE_I|HAZMAT_CLASS|PERSON_ID|PERSON_TYPE|SEAT_NO|   CITY|STATE|ZIPCODE| SEX| AGE|DRIVERS_LICENSE_STATE|DRIVERS_LICENSE_CLASS|SAFETY_EQUIPMENT|   AIRBAG_DEPLOYED|EJECTION|INJURY_CLASSIFICATION|HOSPITAL|EMS_AGENCY|EMS_RUN_NO|DRIVER_ACTION|DRIVER_VISION|PHYSICAL_CONDITION|PEDPEDAL_ACTION|PEDPEDAL_VISIBILITY|PEDPEDAL_LOCATION|      BAC_RESULT|BAC_RESULT VALUE|CELL_PHONE_USE|\n+--------------------+----------+----------------+--------------------+------------------+----------------------+--------------------+-----------------+--------------------+--------------------+---------------+--------+------------------+--------------------+---------------+--------------------+--------------------+----------------------+------------------+-------------+-------------+--------------------+-----------------------+----------------------+---------+----------------+-----------------+------------------+--------------+------------------+---------+-----------+--------------+-----------------+---------+--------------------+--------------+--------------+-----------------------+---------------------------+-----------------------------+----------------------+----------------+----------+-----------------+-----------+-------------+--------------+--------------------+-------------+-------+---------+--------------+----------+-------+--------------------+---------------+------------+--------------+--------------------+-----------+----------------+--------------+-------+------+------------+--------------------+--------+--------+---------+---------+---------+---------+---------+---------+---------+---------+---------+---------+---------+---------+---------+---------+-------------------+------+--------+-------+-------+--------------+----+------------+-------------+------------+-----------------+-----------+-----+----------------+---------------+----------------+------------+-------------+------------------------+---------------------+--------------+-----------+--------------+--------------+---------------+---------------+--------------------+--------+--------------+---------------+---------+-----------------------+--------------------+------------+---------+-----------+-------+-------+-----+-------+----+----+---------------------+---------------------+----------------+------------------+--------+---------------------+--------+----------+----------+-------------+-------------+------------------+---------------+-------------------+-----------------+----------------+----------------+--------------+\n|00157ef02e28307e2...|   1152992|            NULL|10/28/2021 04:30:...|                30|        TRAFFIC SIGNAL|FUNCTIONING PROPERLY|             RAIN|            DAYLIGHT|          PEDESTRIAN|       FOUR WAY|    NULL|STRAIGHT AND LEVEL|                 WET|     NO DEFECTS|            ON SCENE|INJURY AND / OR T...|                     Y|              NULL|            Y| $500 OR LESS|10/28/2021 04:40:...|   DISREGARDING TRAF...|   UNABLE TO DETERMINE|     1359|               W|          69TH ST|               734|          NULL|              NULL|     NULL|       NULL|          NULL|             NULL|        2|NONINCAPACITATING...|             1|             0|                      0|                          1|                            0|                     1|               0|        16|                5|         10| 41.768513523|-87.6590017986|POINT (-87.659001...|      1215096|      1|   DRIVER|          NULL|      NULL|  DODGE|             JOURNEY|           NULL|        NULL|       UNKNOWN|          UNKNOWN/NA| UNKNOWN/NA|               E|STRAIGHT AHEAD|   NULL|  NULL|           1|                NULL|    NULL|    NULL|     NULL|     NULL|     NULL|     NULL|     NULL|     NULL|     NULL|     NULL|     NULL|     NULL|     NULL|     NULL|        Y|     NULL|              FRONT|  NULL|    NULL|   NULL|   NULL|          NULL|NULL|        NULL|         NULL|        NULL|             NULL|       NULL| NULL|            NULL|           NULL|            NULL|        NULL|         NULL|                    NULL|                 NULL|          NULL|       NULL|          NULL|          NULL|           NULL|           NULL|                NULL|    NULL|          NULL|           NULL|     NULL|                   NULL|                NULL|        NULL| O1215096|     DRIVER|   NULL|   NULL| NULL|   NULL|   X|NULL|                 NULL|                 NULL|   USAGE UNKNOWN|DEPLOYMENT UNKNOWN|    NONE| NO INDICATION OF ...|    NULL|      NULL|      NULL|      UNKNOWN|      UNKNOWN|           UNKNOWN|           NULL|               NULL|             NULL|TEST NOT OFFERED|            NULL|          NULL|\n|001f4a31853a6085b...|   1600927|            NULL|10/08/2023 02:53:...|                30|        TRAFFIC SIGNAL|FUNCTIONING PROPERLY|            CLEAR|            DAYLIGHT|            REAR END|    NOT DIVIDED|    NULL|STRAIGHT AND LEVEL|                 DRY|     NO DEFECTS|NOT ON SCENE (DES...|NO INJURY / DRIVE...|                  NULL|              NULL|         NULL|  OVER $1,500|10/08/2023 10:00:...|   FOLLOWING TOO CLO...|  FOLLOWING TOO CLO...|     8300|               S|COTTAGE GROVE AVE|               632|          NULL|              NULL|     NULL|       NULL|          NULL|             NULL|        2|NO INDICATION OF ...|             0|             0|                      0|                          0|                            0|                     2|               0|        14|                1|         10| 41.743873821|-87.6051761606|POINT (-87.605176...|      1677674|      1|   DRIVER|          NULL|      NULL|UNKNOWN|OTHER (EXPLAIN IN...|             IL|        NULL|          NONE|           PASSENGER|   PERSONAL|               E|    UNKNOWN/NA|   NULL|  NULL|           1|                NULL|    NULL|    NULL|     NULL|     NULL|     NULL|     NULL|     NULL|     NULL|     NULL|     NULL|     NULL|     NULL|     NULL|     NULL|        Y|     NULL|              FRONT|  NULL|    NULL|   NULL|   NULL|          NULL|NULL|        NULL|         NULL|        NULL|             NULL|       NULL| NULL|            NULL|           NULL|            NULL|        NULL|         NULL|                    NULL|                 NULL|          NULL|       NULL|          NULL|          NULL|           NULL|           NULL|                NULL|    NULL|          NULL|           NULL|     NULL|                   NULL|                NULL|        NULL| O1677674|     DRIVER|   NULL|CHICAGO|   IL|  60621|   M|  21|                   IL|                    D|SAFETY BELT USED|    NOT APPLICABLE|    NONE| NO INDICATION OF ...|    NULL|      NULL|      NULL|      UNKNOWN| NOT OBSCURED|            NORMAL|           NULL|               NULL|             NULL|TEST NOT OFFERED|            NULL|          NULL|\n|00207e79dccc3207d...|   1330497|            NULL|08/16/2022 08:50:...|                30|           NO CONTROLS|         NO CONTROLS|            CLEAR|DARKNESS, LIGHTED...|SIDESWIPE SAME DI...|    NOT DIVIDED|    NULL|STRAIGHT AND LEVEL|                 DRY|     NO DEFECTS|NOT ON SCENE (DES...|NO INJURY / DRIVE...|                  NULL|              NULL|            Y|  OVER $1,500|08/16/2022 09:00:...|    UNABLE TO DETERMINE|   UNABLE TO DETERMINE|     1450|               W|          69TH ST|               725|          NULL|              NULL|     NULL|       NULL|          NULL|             NULL|        2|NO INDICATION OF ...|             0|             0|                      0|                          0|                            0|                     4|               0|        20|                3|          8|41.7687023141|-87.6610981219|POINT (-87.661098...|      1400178|      1|   DRIVER|          NULL|      NULL|   FORD|OTHER (EXPLAIN IN...|             IL|        NULL|       UNKNOWN|              PICKUP| UNKNOWN/NA|               E|STRAIGHT AHEAD|   NULL|  NULL|           1|                NULL|    NULL|    NULL|     NULL|        Y|        Y|     NULL|     NULL|     NULL|     NULL|     NULL|     NULL|     NULL|     NULL|     NULL|     NULL|        N| FRONT-RIGHT-CORNER|  NULL|    NULL|   NULL|   NULL|          NULL|NULL|        NULL|         NULL|        NULL|             NULL|       NULL| NULL|            NULL|           NULL|            NULL|        NULL|         NULL|                    NULL|                 NULL|          NULL|       NULL|          NULL|          NULL|           NULL|           NULL|                NULL|    NULL|          NULL|           NULL|     NULL|                   NULL|                NULL|        NULL| O1400178|     DRIVER|   NULL|   NULL| NULL|   NULL|   M|NULL|                 NULL|                 NULL|   USAGE UNKNOWN|DEPLOYMENT UNKNOWN|    NONE| NO INDICATION OF ...|    NULL|      NULL|      NULL|      UNKNOWN|      UNKNOWN|           UNKNOWN|           NULL|               NULL|             NULL|TEST NOT OFFERED|            NULL|          NULL|\n|00219bdfe50dd1397...|    608025|            NULL|05/03/2019 11:35:...|                30|           NO CONTROLS|         NO CONTROLS|            CLEAR|            DAYLIGHT|               ANGLE|        ONE-WAY|    NULL|STRAIGHT AND LEVEL|                 DRY|     NO DEFECTS|NOT ON SCENE (DES...|NO INJURY / DRIVE...|                  NULL|              NULL|         NULL|$501 - $1,500|05/03/2019 03:05:...|   FAILING TO YIELD ...|  DRIVING SKILLS/KN...|     1451|               W|       CULLOM AVE|              1912|          NULL|              NULL|     NULL|       NULL|          NULL|             NULL|        2|NO INDICATION OF ...|             0|             0|                      0|                          0|                            0|                     2|               0|        11|                6|          5|41.9596952087|-87.6664026355|POINT (-87.666402...|       638370|      2|   DRIVER|          NULL|      NULL|   JEEP|Grand Cherokee (f...|             IL|        2014|          NONE|SPORT UTILITY VEH...|   PERSONAL|               E|STRAIGHT AHEAD|   NULL|  NULL|           1|                NULL|    NULL|    NULL|     NULL|     NULL|        Y|        Y|     NULL|     NULL|     NULL|     NULL|     NULL|     NULL|     NULL|     NULL|     NULL|     NULL|        FRONT-RIGHT|  NULL|    NULL|   NULL|   NULL|          NULL|NULL|        NULL|         NULL|        NULL|             NULL|       NULL| NULL|            NULL|           NULL|            NULL|        NULL|         NULL|                    NULL|                 NULL|          NULL|       NULL|          NULL|          NULL|           NULL|           NULL|                NULL|    NULL|          NULL|           NULL|     NULL|                   NULL|                NULL|        NULL|  O638370|     DRIVER|   NULL|CHICAGO|   IL|  60622|   F|  37|                   IL|                 NULL|SAFETY BELT USED|    NOT APPLICABLE|    NONE| NO INDICATION OF ...|    NULL|      NULL|      NULL|         NONE| NOT OBSCURED|            NORMAL|           NULL|               NULL|             NULL|TEST NOT OFFERED|            NULL|          NULL|\n|0023255f1b4514445...|      NULL|            NULL|10/12/2018 06:20:...|                30|           NO CONTROLS|         NO CONTROLS|            OTHER|DARKNESS, LIGHTED...|        PEDALCYCLIST|    NOT DIVIDED|       2|STRAIGHT AND LEVEL|               OTHER|SHOULDER DEFECT|            ON SCENE|INJURY AND / OR T...|                  NULL|              NULL|         NULL| $500 OR LESS|10/12/2018 06:25:...|   DISREGARDING ROAD...|   UNABLE TO DETERMINE|     1467|               N|    MILWAUKEE AVE|              1424|          NULL|              NULL|        Y|       NULL|          NULL|             NULL|        2|REPORTED, NOT EVI...|             1|             0|                      0|                          0|                            1|                     1|               0|        18|                6|         10|41.9086539086|-87.6745493658|POINT (-87.674549...|       498412|      2|  BICYCLE|          NULL|      NULL|   NULL|                NULL|           NULL|        NULL|          NULL|                NULL|       NULL|            NULL|          NULL|   NULL|  NULL|        NULL|                NULL|    NULL|    NULL|     NULL|     NULL|     NULL|     NULL|     NULL|     NULL|     NULL|     NULL|     NULL|     NULL|     NULL|     NULL|     NULL|     NULL|               NULL|  NULL|    NULL|   NULL|   NULL|          NULL|NULL|        NULL|         NULL|        NULL|             NULL|       NULL| NULL|            NULL|           NULL|            NULL|        NULL|         NULL|                    NULL|                 NULL|          NULL|       NULL|          NULL|          NULL|           NULL|           NULL|                NULL|    NULL|          NULL|           NULL|     NULL|                   NULL|                NULL|        NULL|     NULL|       NULL|   NULL|   NULL| NULL|   NULL|NULL|NULL|                 NULL|                 NULL|            NULL|              NULL|    NULL|                 NULL|    NULL|      NULL|      NULL|         NULL|         NULL|              NULL|           NULL|               NULL|             NULL|            NULL|            NULL|          NULL|\n+--------------------+----------+----------------+--------------------+------------------+----------------------+--------------------+-----------------+--------------------+--------------------+---------------+--------+------------------+--------------------+---------------+--------------------+--------------------+----------------------+------------------+-------------+-------------+--------------------+-----------------------+----------------------+---------+----------------+-----------------+------------------+--------------+------------------+---------+-----------+--------------+-----------------+---------+--------------------+--------------+--------------+-----------------------+---------------------------+-----------------------------+----------------------+----------------+----------+-----------------+-----------+-------------+--------------+--------------------+-------------+-------+---------+--------------+----------+-------+--------------------+---------------+------------+--------------+--------------------+-----------+----------------+--------------+-------+------+------------+--------------------+--------+--------+---------+---------+---------+---------+---------+---------+---------+---------+---------+---------+---------+---------+---------+---------+-------------------+------+--------+-------+-------+--------------+----+------------+-------------+------------+-----------------+-----------+-----+----------------+---------------+----------------+------------+-------------+------------------------+---------------------+--------------+-----------+--------------+--------------+---------------+---------------+--------------------+--------+--------------+---------------+---------+-----------------------+--------------------+------------+---------+-----------+-------+-------+-----+-------+----+----+---------------------+---------------------+----------------+------------------+--------+---------------------+--------+----------+----------+-------------+-------------+------------------+---------------+-------------------+-----------------+----------------+----------------+--------------+\nonly showing top 5 rows\n\n"
     ]
    }
   ],
   "source": [
    "# Load from saved Parquet file\n",
    "final_df = spark.read.parquet(\"/FileStore/Final Project Data/final_joined_crash_data.parquet\")\n",
    "\n",
    "# Show sample\n",
    "final_df.show(5)"
   ]
  },
  {
   "cell_type": "markdown",
   "metadata": {
    "application/vnd.databricks.v1+cell": {
     "cellMetadata": {
      "byteLimit": 2048000,
      "rowLimit": 10000
     },
     "inputWidgets": {},
     "nuid": "a1ebfef4-84e1-48e8-b9c1-2dc241d2460b",
     "showTitle": false,
     "tableResultSettingsMap": {},
     "title": ""
    }
   },
   "source": [
    "## Step 2: Quick Data Overview"
   ]
  },
  {
   "cell_type": "code",
   "execution_count": 0,
   "metadata": {
    "application/vnd.databricks.v1+cell": {
     "cellMetadata": {
      "byteLimit": 2048000,
      "rowLimit": 10000
     },
     "inputWidgets": {},
     "nuid": "52d0c199-308a-4e55-a3eb-e95da0c2ffff",
     "showTitle": false,
     "tableResultSettingsMap": {},
     "title": ""
    }
   },
   "outputs": [
    {
     "output_type": "stream",
     "name": "stdout",
     "output_type": "stream",
     "text": [
      "root\n |-- CRASH_RECORD_ID: string (nullable = true)\n |-- VEHICLE_ID: integer (nullable = true)\n |-- CRASH_DATE_EST_I: string (nullable = true)\n |-- CRASH_DATE: string (nullable = true)\n |-- POSTED_SPEED_LIMIT: integer (nullable = true)\n |-- TRAFFIC_CONTROL_DEVICE: string (nullable = true)\n |-- DEVICE_CONDITION: string (nullable = true)\n |-- WEATHER_CONDITION: string (nullable = true)\n |-- LIGHTING_CONDITION: string (nullable = true)\n |-- FIRST_CRASH_TYPE: string (nullable = true)\n |-- TRAFFICWAY_TYPE: string (nullable = true)\n |-- LANE_CNT: integer (nullable = true)\n |-- ALIGNMENT: string (nullable = true)\n |-- ROADWAY_SURFACE_COND: string (nullable = true)\n |-- ROAD_DEFECT: string (nullable = true)\n |-- REPORT_TYPE: string (nullable = true)\n |-- CRASH_TYPE: string (nullable = true)\n |-- INTERSECTION_RELATED_I: string (nullable = true)\n |-- NOT_RIGHT_OF_WAY_I: string (nullable = true)\n |-- HIT_AND_RUN_I: string (nullable = true)\n |-- DAMAGE: string (nullable = true)\n |-- DATE_POLICE_NOTIFIED: string (nullable = true)\n |-- PRIM_CONTRIBUTORY_CAUSE: string (nullable = true)\n |-- SEC_CONTRIBUTORY_CAUSE: string (nullable = true)\n |-- STREET_NO: integer (nullable = true)\n |-- STREET_DIRECTION: string (nullable = true)\n |-- STREET_NAME: string (nullable = true)\n |-- BEAT_OF_OCCURRENCE: integer (nullable = true)\n |-- PHOTOS_TAKEN_I: string (nullable = true)\n |-- STATEMENTS_TAKEN_I: string (nullable = true)\n |-- DOORING_I: string (nullable = true)\n |-- WORK_ZONE_I: string (nullable = true)\n |-- WORK_ZONE_TYPE: string (nullable = true)\n |-- WORKERS_PRESENT_I: string (nullable = true)\n |-- NUM_UNITS: integer (nullable = true)\n |-- MOST_SEVERE_INJURY: string (nullable = true)\n |-- INJURIES_TOTAL: integer (nullable = true)\n |-- INJURIES_FATAL: integer (nullable = true)\n |-- INJURIES_INCAPACITATING: integer (nullable = true)\n |-- INJURIES_NON_INCAPACITATING: integer (nullable = true)\n |-- INJURIES_REPORTED_NOT_EVIDENT: integer (nullable = true)\n |-- INJURIES_NO_INDICATION: integer (nullable = true)\n |-- INJURIES_UNKNOWN: integer (nullable = true)\n |-- CRASH_HOUR: integer (nullable = true)\n |-- CRASH_DAY_OF_WEEK: integer (nullable = true)\n |-- CRASH_MONTH: integer (nullable = true)\n |-- LATITUDE: double (nullable = true)\n |-- LONGITUDE: double (nullable = true)\n |-- LOCATION: string (nullable = true)\n |-- CRASH_UNIT_ID: integer (nullable = true)\n |-- UNIT_NO: integer (nullable = true)\n |-- UNIT_TYPE: string (nullable = true)\n |-- NUM_PASSENGERS: integer (nullable = true)\n |-- CMRC_VEH_I: string (nullable = true)\n |-- MAKE: string (nullable = true)\n |-- MODEL: string (nullable = true)\n |-- LIC_PLATE_STATE: string (nullable = true)\n |-- VEHICLE_YEAR: string (nullable = true)\n |-- VEHICLE_DEFECT: string (nullable = true)\n |-- VEHICLE_TYPE: string (nullable = true)\n |-- VEHICLE_USE: string (nullable = true)\n |-- TRAVEL_DIRECTION: string (nullable = true)\n |-- MANEUVER: string (nullable = true)\n |-- TOWED_I: string (nullable = true)\n |-- FIRE_I: string (nullable = true)\n |-- OCCUPANT_CNT: string (nullable = true)\n |-- EXCEED_SPEED_LIMIT_I: string (nullable = true)\n |-- TOWED_BY: string (nullable = true)\n |-- TOWED_TO: string (nullable = true)\n |-- AREA_00_I: string (nullable = true)\n |-- AREA_01_I: string (nullable = true)\n |-- AREA_02_I: string (nullable = true)\n |-- AREA_03_I: string (nullable = true)\n |-- AREA_04_I: string (nullable = true)\n |-- AREA_05_I: string (nullable = true)\n |-- AREA_06_I: string (nullable = true)\n |-- AREA_07_I: string (nullable = true)\n |-- AREA_08_I: string (nullable = true)\n |-- AREA_09_I: string (nullable = true)\n |-- AREA_10_I: string (nullable = true)\n |-- AREA_11_I: string (nullable = true)\n |-- AREA_12_I: string (nullable = true)\n |-- AREA_99_I: string (nullable = true)\n |-- FIRST_CONTACT_POINT: string (nullable = true)\n |-- CMV_ID: string (nullable = true)\n |-- USDOT_NO: string (nullable = true)\n |-- CCMC_NO: string (nullable = true)\n |-- ILCC_NO: string (nullable = true)\n |-- COMMERCIAL_SRC: string (nullable = true)\n |-- GVWR: string (nullable = true)\n |-- CARRIER_NAME: string (nullable = true)\n |-- CARRIER_STATE: string (nullable = true)\n |-- CARRIER_CITY: string (nullable = true)\n |-- HAZMAT_PLACARDS_I: string (nullable = true)\n |-- HAZMAT_NAME: string (nullable = true)\n |-- UN_NO: string (nullable = true)\n |-- HAZMAT_PRESENT_I: string (nullable = true)\n |-- HAZMAT_REPORT_I: string (nullable = true)\n |-- HAZMAT_REPORT_NO: string (nullable = true)\n |-- MCS_REPORT_I: string (nullable = true)\n |-- MCS_REPORT_NO: string (nullable = true)\n |-- HAZMAT_VIO_CAUSE_CRASH_I: string (nullable = true)\n |-- MCS_VIO_CAUSE_CRASH_I: string (nullable = true)\n |-- IDOT_PERMIT_NO: string (nullable = true)\n |-- WIDE_LOAD_I: string (nullable = true)\n |-- TRAILER1_WIDTH: string (nullable = true)\n |-- TRAILER2_WIDTH: string (nullable = true)\n |-- TRAILER1_LENGTH: string (nullable = true)\n |-- TRAILER2_LENGTH: integer (nullable = true)\n |-- TOTAL_VEHICLE_LENGTH: string (nullable = true)\n |-- AXLE_CNT: integer (nullable = true)\n |-- VEHICLE_CONFIG: string (nullable = true)\n |-- CARGO_BODY_TYPE: string (nullable = true)\n |-- LOAD_TYPE: string (nullable = true)\n |-- HAZMAT_OUT_OF_SERVICE_I: string (nullable = true)\n |-- MCS_OUT_OF_SERVICE_I: string (nullable = true)\n |-- HAZMAT_CLASS: string (nullable = true)\n |-- PERSON_ID: string (nullable = true)\n |-- PERSON_TYPE: string (nullable = true)\n |-- SEAT_NO: integer (nullable = true)\n |-- CITY: string (nullable = true)\n |-- STATE: string (nullable = true)\n |-- ZIPCODE: string (nullable = true)\n |-- SEX: string (nullable = true)\n |-- AGE: integer (nullable = true)\n |-- DRIVERS_LICENSE_STATE: string (nullable = true)\n |-- DRIVERS_LICENSE_CLASS: string (nullable = true)\n |-- SAFETY_EQUIPMENT: string (nullable = true)\n |-- AIRBAG_DEPLOYED: string (nullable = true)\n |-- EJECTION: string (nullable = true)\n |-- INJURY_CLASSIFICATION: string (nullable = true)\n |-- HOSPITAL: string (nullable = true)\n |-- EMS_AGENCY: string (nullable = true)\n |-- EMS_RUN_NO: string (nullable = true)\n |-- DRIVER_ACTION: string (nullable = true)\n |-- DRIVER_VISION: string (nullable = true)\n |-- PHYSICAL_CONDITION: string (nullable = true)\n |-- PEDPEDAL_ACTION: string (nullable = true)\n |-- PEDPEDAL_VISIBILITY: string (nullable = true)\n |-- PEDPEDAL_LOCATION: string (nullable = true)\n |-- BAC_RESULT: string (nullable = true)\n |-- BAC_RESULT VALUE: double (nullable = true)\n |-- CELL_PHONE_USE: string (nullable = true)\n\nTotal Rows: 2308577\nTotal Columns: 143\n"
     ]
    }
   ],
   "source": [
    "# Show schema\n",
    "final_df.printSchema()\n",
    "\n",
    "# Count number of rows and columns\n",
    "row_count = final_df.count()\n",
    "col_count = len(final_df.columns)\n",
    "\n",
    "print(f\"Total Rows: {row_count}\")\n",
    "print(f\"Total Columns: {col_count}\")"
   ]
  },
  {
   "cell_type": "markdown",
   "metadata": {
    "application/vnd.databricks.v1+cell": {
     "cellMetadata": {
      "byteLimit": 2048000,
      "rowLimit": 10000
     },
     "inputWidgets": {},
     "nuid": "a688b089-0842-4f82-bc50-3b1d30bc514a",
     "showTitle": false,
     "tableResultSettingsMap": {},
     "title": ""
    }
   },
   "source": [
    "### Primary EDA Analysis Summary\n",
    "\n",
    "**Dataset Status:**\n",
    "\n",
    "- Total Rows: 2,308,577\n",
    "- Total Columns: 143\n",
    "- Source Tables Joined: Crashes + Vehicles + People\n",
    "- File Format: Parquet (optimized)"
   ]
  },
  {
   "cell_type": "markdown",
   "metadata": {
    "application/vnd.databricks.v1+cell": {
     "cellMetadata": {
      "byteLimit": 2048000,
      "rowLimit": 10000
     },
     "inputWidgets": {},
     "nuid": "2f9f527a-b934-400c-85e4-34c2965ef3c1",
     "showTitle": false,
     "tableResultSettingsMap": {},
     "title": ""
    }
   },
   "source": [
    "## Step 3: Null Value Analysis"
   ]
  },
  {
   "cell_type": "code",
   "execution_count": 0,
   "metadata": {
    "application/vnd.databricks.v1+cell": {
     "cellMetadata": {
      "byteLimit": 2048000,
      "rowLimit": 10000
     },
     "inputWidgets": {},
     "nuid": "331001f5-8a8f-417e-95be-53d0d2dd7c4e",
     "showTitle": false,
     "tableResultSettingsMap": {},
     "title": ""
    }
   },
   "outputs": [
    {
     "output_type": "stream",
     "name": "stdout",
     "output_type": "stream",
     "text": [
      "-RECORD 0--------------------------------\n CRASH_RECORD_ID               | 0       \n VEHICLE_ID                    | 44688   \n CRASH_DATE_EST_I              | 2152465 \n CRASH_DATE                    | 0       \n POSTED_SPEED_LIMIT            | 0       \n TRAFFIC_CONTROL_DEVICE        | 0       \n DEVICE_CONDITION              | 0       \n WEATHER_CONDITION             | 0       \n LIGHTING_CONDITION            | 0       \n FIRST_CRASH_TYPE              | 0       \n TRAFFICWAY_TYPE               | 0       \n LANE_CNT                      | 1814500 \n ALIGNMENT                     | 0       \n ROADWAY_SURFACE_COND          | 0       \n ROAD_DEFECT                   | 0       \n REPORT_TYPE                   | 88042   \n CRASH_TYPE                    | 0       \n INTERSECTION_RELATED_I        | 1729878 \n NOT_RIGHT_OF_WAY_I            | 2220170 \n HIT_AND_RUN_I                 | 1605924 \n DAMAGE                        | 0       \n DATE_POLICE_NOTIFIED          | 0       \n PRIM_CONTRIBUTORY_CAUSE       | 0       \n SEC_CONTRIBUTORY_CAUSE        | 0       \n STREET_NO                     | 0       \n STREET_DIRECTION              | 8       \n STREET_NAME                   | 2       \n BEAT_OF_OCCURRENCE            | 12      \n PHOTOS_TAKEN_I                | 2274926 \n STATEMENTS_TAKEN_I            | 2247679 \n DOORING_I                     | 2301674 \n WORK_ZONE_I                   | 2296522 \n WORK_ZONE_TYPE                | 2299397 \n WORKERS_PRESENT_I             | 2305569 \n NUM_UNITS                     | 0       \n MOST_SEVERE_INJURY            | 3439    \n INJURIES_TOTAL                | 3412    \n INJURIES_FATAL                | 3412    \n INJURIES_INCAPACITATING       | 3412    \n INJURIES_NON_INCAPACITATING   | 3412    \n INJURIES_REPORTED_NOT_EVIDENT | 3412    \n INJURIES_NO_INDICATION        | 3412    \n INJURIES_UNKNOWN              | 3412    \n CRASH_HOUR                    | 0       \n CRASH_DAY_OF_WEEK             | 0       \n CRASH_MONTH                   | 0       \n LATITUDE                      | 16264   \n LONGITUDE                     | 16264   \n LOCATION                      | 16264   \n CRASH_UNIT_ID                 | 0       \n UNIT_NO                       | 0       \n UNIT_TYPE                     | 2297    \n NUM_PASSENGERS                | 1630220 \n CMRC_VEH_I                    | 2264037 \n MAKE                          | 44694   \n MODEL                         | 44871   \n LIC_PLATE_STATE               | 225722  \n VEHICLE_YEAR                  | 363395  \n VEHICLE_DEFECT                | 44707   \n VEHICLE_TYPE                  | 44689   \n VEHICLE_USE                   | 44689   \n TRAVEL_DIRECTION              | 44691   \n MANEUVER                      | 44688   \n TOWED_I                       | 1985066 \n FIRE_I                        | 2306170 \n OCCUPANT_CNT                  | 45177   \n EXCEED_SPEED_LIMIT_I          | 2304659 \n TOWED_BY                      | 2061227 \n TOWED_TO                      | 2156191 \n AREA_00_I                     | 2229994 \n AREA_01_I                     | 1665890 \n AREA_02_I                     | 1927733 \n AREA_03_I                     | 2073741 \n AREA_04_I                     | 2077531 \n AREA_05_I                     | 1949533 \n AREA_06_I                     | 1934342 \n AREA_07_I                     | 1959693 \n AREA_08_I                     | 1983971 \n AREA_09_I                     | 2136956 \n AREA_10_I                     | 2054618 \n AREA_11_I                     | 1823198 \n AREA_12_I                     | 1840195 \n AREA_99_I                     | 2071115 \n FIRST_CONTACT_POINT           | 49011   \n CMV_ID                        | 2284693 \n USDOT_NO                      | 2296423 \n CCMC_NO                       | 2306063 \n ILCC_NO                       | 2306819 \n COMMERCIAL_SRC                | 2293601 \n GVWR                          | 2295748 \n CARRIER_NAME                  | 2286146 \n CARRIER_STATE                 | 2287376 \n CARRIER_CITY                  | 2287749 \n HAZMAT_PLACARDS_I             | 2308079 \n HAZMAT_NAME                   | 2308507 \n UN_NO                         | 2307870 \n HAZMAT_PRESENT_I              | 2291581 \n HAZMAT_REPORT_I               | 2291907 \n HAZMAT_REPORT_NO              | 2308477 \n MCS_REPORT_I                  | 2291963 \n MCS_REPORT_NO                 | 2308470 \n HAZMAT_VIO_CAUSE_CRASH_I      | 2291797 \n MCS_VIO_CAUSE_CRASH_I         | 2291970 \n IDOT_PERMIT_NO                | 2307312 \n WIDE_LOAD_I                   | 2308376 \n TRAILER1_WIDTH                | 2305244 \n TRAILER2_WIDTH                | 2308143 \n TRAILER1_LENGTH               | 2305935 \n TRAILER2_LENGTH               | 2308500 \n TOTAL_VEHICLE_LENGTH          | 2304988 \n AXLE_CNT                      | 2303176 \n VEHICLE_CONFIG                | 2288959 \n CARGO_BODY_TYPE               | 2289599 \n LOAD_TYPE                     | 2290804 \n HAZMAT_OUT_OF_SERVICE_I       | 2292441 \n MCS_OUT_OF_SERVICE_I          | 2292066 \n HAZMAT_CLASS                  | 2307157 \n PERSON_ID                     | 290966  \n PERSON_TYPE                   | 290966  \n SEAT_NO                       | 1892479 \n CITY                          | 846119  \n STATE                         | 822897  \n ZIPCODE                       | 956830  \n SEX                           | 324662  \n AGE                           | 884209  \n DRIVERS_LICENSE_STATE         | 1102300 \n DRIVERS_LICENSE_CLASS         | 1306658 \n SAFETY_EQUIPMENT              | 291311  \n AIRBAG_DEPLOYED               | 291314  \n EJECTION                      | 291317  \n INJURY_CLASSIFICATION         | 291390  \n HOSPITAL                      | 1991994 \n EMS_AGENCY                    | 2113087 \n EMS_RUN_NO                    | 2272725 \n DRIVER_ACTION                 | 707075  \n DRIVER_VISION                 | 707072  \n PHYSICAL_CONDITION            | 707073  \n PEDPEDAL_ACTION               | 2308535 \n PEDPEDAL_VISIBILITY           | 2308540 \n PEDPEDAL_LOCATION             | 2308534 \n BAC_RESULT                    | 707084  \n BAC_RESULT VALUE              | 2306322 \n CELL_PHONE_USE                | 2307482 \n\n"
     ]
    }
   ],
   "source": [
    "from pyspark.sql.functions import col, sum as spark_sum, when\n",
    "\n",
    "# Calculate missing values per column\n",
    "missing_counts = final_df.select([\n",
    "    spark_sum(when(col(c).isNull(), 1).otherwise(0)).alias(c)\n",
    "    for c in final_df.columns\n",
    "])\n",
    "\n",
    "missing_counts.show(vertical=True, truncate=False)"
   ]
  },
  {
   "cell_type": "markdown",
   "metadata": {
    "application/vnd.databricks.v1+cell": {
     "cellMetadata": {
      "byteLimit": 2048000,
      "rowLimit": 10000
     },
     "inputWidgets": {},
     "nuid": "9523f2d4-7ac9-401b-94ef-f57bf38140d7",
     "showTitle": false,
     "tableResultSettingsMap": {},
     "title": ""
    }
   },
   "source": [
    "### Key Observations from our Output\n",
    "\n",
    "---\n",
    "\n",
    "### 1. Good Columns (Almost No Missing Values)\n",
    "\n",
    "✅ These columns are mostly complete:\n",
    "\n",
    "- **CRASH_RECORD_ID**\n",
    "- **CRASH_DATE**\n",
    "- **POSTED_SPEED_LIMIT**\n",
    "- **TRAFFIC_CONTROL_DEVICE**\n",
    "- **DEVICE_CONDITION**\n",
    "- **WEATHER_CONDITION**\n",
    "- **LIGHTING_CONDITION**\n",
    "- **FIRST_CRASH_TYPE**\n",
    "- **CRASH_TYPE**\n",
    "- **ROADWAY_SURFACE_COND**\n",
    "- **PRIM_CONTRIBUTORY_CAUSE**\n",
    "- **SEC_CONTRIBUTORY_CAUSE**\n",
    "- **INJURIES_TOTAL**, **INJURIES_FATAL**, **INJURIES_NO_INDICATION**\n",
    "- **CRASH_HOUR**, **CRASH_DAY_OF_WEEK**, **CRASH_MONTH**\n",
    "\n",
    "➡️ **These are high-quality candidates for modeling.**\n",
    "\n",
    "---\n",
    "\n",
    "### 2. Columns with Massive Missing Values (>90% missing)\n",
    "\n",
    "🚫 These columns are almost useless unless filled carefully:\n",
    "\n",
    "- **CRASH_DATE_EST_I**\n",
    "- **INTERSECTION_RELATED_I**\n",
    "- **NOT_RIGHT_OF_WAY_I**\n",
    "- **HIT_AND_RUN_I**\n",
    "- **TOWED_I**\n",
    "- **WORK_ZONE_I**, **WORK_ZONE_TYPE**\n",
    "- **AREA_XX_I** columns (very sparse)\n",
    "- **HAZMAT_*** columns\n",
    "- **WIDE_LOAD_I**\n",
    "- **EMS_RUN_NO**\n",
    "- **BAC_RESULT VALUE**\n",
    "- **PEDPEDAL_*** columns\n",
    "\n",
    "➡️ **We can safely DROP many of these irrelevant or extremely sparse columns to save memory and focus modeling.**\n",
    "\n",
    "---\n",
    "\n",
    "### 3. Person Data Is Very Sparse\n",
    "\n",
    "Fields like:\n",
    "\n",
    "- **PERSON_ID**\n",
    "- **AGE**\n",
    "- **SEX**\n",
    "- **INJURY_CLASSIFICATION**\n",
    "\n",
    "have significant missingness (**>30% to 70%**), especially pedestrian/bicycle fields (up to **99% missing**).\n",
    "\n",
    "➡️ **We should treat people-related data separately or optionally, and not rely heavily on them for initial modeling.**\n"
   ]
  },
  {
   "cell_type": "markdown",
   "metadata": {
    "application/vnd.databricks.v1+cell": {
     "cellMetadata": {
      "byteLimit": 2048000,
      "rowLimit": 10000
     },
     "inputWidgets": {},
     "nuid": "2a9e020c-8454-43b5-b77a-36fca3c9caf0",
     "showTitle": false,
     "tableResultSettingsMap": {},
     "title": ""
    }
   },
   "source": [
    "## Step 4: Feature Shortlisting\n",
    "\n",
    "🧠 Feature Shortlisting Strategy\n",
    "\n",
    "We’ve categorized features into three clear groups for better modeling clarity.\n",
    "\n",
    "---\n",
    "\n",
    "### 🎯 Target Columns (Modeling Outcomes)\n",
    "\n",
    "| Column               | Type                 | Reason                                                                 |\n",
    "|----------------------|----------------------|------------------------------------------------------------------------|\n",
    "| **INJURIES_TOTAL**   | Regression           | Total people injured — best for cost/severity prediction               |\n",
    "| **INJURIES_FATAL**   | Regression / Binary  | Can be used for binary classification (e.g., fatal vs. not)           |\n",
    "| **MOST_SEVERE_INJURY** | Classification     | Categorical — good for multi-class classification (e.g., NO INJURY, FATAL, etc.) |\n",
    "\n",
    "> 💡 *We can pick any of the three depending on our modeling direction (we’ll finalize this after EDA of distributions).*\n",
    "\n",
    "---\n",
    "\n",
    "### ✅ Selected Input Features (Predictors)\n",
    "\n",
    "| Feature                          | Type        | Why                                                               |\n",
    "|----------------------------------|-------------|--------------------------------------------------------------------|\n",
    "| **CRASH_TYPE**                   | Categorical | Type of crash: hit object, rear-end, sideswipe                    |\n",
    "| **FIRST_CRASH_TYPE**             | Categorical | More detailed breakdown                                           |\n",
    "| **POSTED_SPEED_LIMIT**           | Numeric     | Environmental risk factor                                         |\n",
    "| **TRAFFIC_CONTROL_DEVICE**       | Categorical | Controls in place                                                 |\n",
    "| **DEVICE_CONDITION**             | Categorical | Broken/non-functional signals?                                    |\n",
    "| **WEATHER_CONDITION**            | Categorical | Snow, rain, fog, etc.                                             |\n",
    "| **LIGHTING_CONDITION**           | Categorical | Daylight vs. dark                                                 |\n",
    "| **ROADWAY_SURFACE_COND**         | Categorical | Dry, wet, snowy, icy                                              |\n",
    "| **PRIM_CONTRIBUTORY_CAUSE**      | Categorical | Top reason of crash                                               |\n",
    "| **SEC_CONTRIBUTORY_CAUSE**       | Categorical | Secondary factor                                                  |\n",
    "| **CRASH_HOUR**, **DAY_OF_WEEK**, **MONTH** | Numeric | Temporal patterns                                           |\n",
    "| **VEHICLE_TYPE**                 | Categorical | Vehicle class involved                                            |\n",
    "| **MANEUVER**                     | Categorical | Turning, going straight, etc.                                     |\n",
    "\n",
    "> ✅ *These columns are mostly complete and provide useful signal for predicting injury or fatality risk.*\n",
    "\n",
    "---\n",
    "\n",
    "### 🗑️ To Drop (Too Sparse or Irrelevant)\n",
    "\n",
    "| Reason                | Examples                                                                 |\n",
    "|------------------------|--------------------------------------------------------------------------|\n",
    "| 🚫 **90%+ Missing**    | INTERSECTION_RELATED_I, HIT_AND_RUN_I, TOWED_I, AREA_XX_I, HAZMAT_       |\n",
    "| 📉 **Sparse person fields** | EMS_AGENCY, PEDPEDAL_ACTION, BAC_RESULT VALUE, DRIVERS_LICENSE_CLASS  |\n",
    "| 🔁 **Redundant**       | STREET_NO, STREET_DIRECTION, STREET_NAME, LOCATION (too specific/geolocation not needed) |\n"
   ]
  },
  {
   "cell_type": "code",
   "execution_count": 0,
   "metadata": {
    "application/vnd.databricks.v1+cell": {
     "cellMetadata": {
      "byteLimit": 2048000,
      "rowLimit": 10000
     },
     "inputWidgets": {},
     "nuid": "8a7c00f2-95ab-4072-a2f7-ca9c8afff63b",
     "showTitle": false,
     "tableResultSettingsMap": {},
     "title": ""
    }
   },
   "outputs": [
    {
     "output_type": "stream",
     "name": "stdout",
     "output_type": "stream",
     "text": [
      "+--------------+--------------+--------------------+--------------------+--------------------+------------------+----------------------+--------------------+-----------------+--------------------+--------------------+-----------------------+----------------------+----------+-----------------+-----------+--------------------+--------------+\n|INJURIES_TOTAL|INJURIES_FATAL|  MOST_SEVERE_INJURY|          CRASH_TYPE|    FIRST_CRASH_TYPE|POSTED_SPEED_LIMIT|TRAFFIC_CONTROL_DEVICE|    DEVICE_CONDITION|WEATHER_CONDITION|  LIGHTING_CONDITION|ROADWAY_SURFACE_COND|PRIM_CONTRIBUTORY_CAUSE|SEC_CONTRIBUTORY_CAUSE|CRASH_HOUR|CRASH_DAY_OF_WEEK|CRASH_MONTH|        VEHICLE_TYPE|      MANEUVER|\n+--------------+--------------+--------------------+--------------------+--------------------+------------------+----------------------+--------------------+-----------------+--------------------+--------------------+-----------------------+----------------------+----------+-----------------+-----------+--------------------+--------------+\n|             1|             0|NONINCAPACITATING...|INJURY AND / OR T...|          PEDESTRIAN|                30|        TRAFFIC SIGNAL|FUNCTIONING PROPERLY|             RAIN|            DAYLIGHT|                 WET|   DISREGARDING TRAF...|   UNABLE TO DETERMINE|        16|                5|         10|          UNKNOWN/NA|STRAIGHT AHEAD|\n|             0|             0|NO INDICATION OF ...|NO INJURY / DRIVE...|            REAR END|                30|        TRAFFIC SIGNAL|FUNCTIONING PROPERLY|            CLEAR|            DAYLIGHT|                 DRY|   FOLLOWING TOO CLO...|  FOLLOWING TOO CLO...|        14|                1|         10|           PASSENGER|    UNKNOWN/NA|\n|             0|             0|NO INDICATION OF ...|NO INJURY / DRIVE...|SIDESWIPE SAME DI...|                30|           NO CONTROLS|         NO CONTROLS|            CLEAR|DARKNESS, LIGHTED...|                 DRY|    UNABLE TO DETERMINE|   UNABLE TO DETERMINE|        20|                3|          8|              PICKUP|STRAIGHT AHEAD|\n|             0|             0|NO INDICATION OF ...|NO INJURY / DRIVE...|               ANGLE|                30|           NO CONTROLS|         NO CONTROLS|            CLEAR|            DAYLIGHT|                 DRY|   FAILING TO YIELD ...|  DRIVING SKILLS/KN...|        11|                6|          5|SPORT UTILITY VEH...|STRAIGHT AHEAD|\n|             1|             0|REPORTED, NOT EVI...|INJURY AND / OR T...|        PEDALCYCLIST|                30|           NO CONTROLS|         NO CONTROLS|            OTHER|DARKNESS, LIGHTED...|               OTHER|   DISREGARDING ROAD...|   UNABLE TO DETERMINE|        18|                6|         10|                NULL|          NULL|\n+--------------+--------------+--------------------+--------------------+--------------------+------------------+----------------------+--------------------+-----------------+--------------------+--------------------+-----------------------+----------------------+----------+-----------------+-----------+--------------------+--------------+\nonly showing top 5 rows\n\n"
     ]
    }
   ],
   "source": [
    "# Create Cleaned Feature Dataset\n",
    "\n",
    "# Choose selected columns\n",
    "selected_columns = [\n",
    "    \"INJURIES_TOTAL\", \"INJURIES_FATAL\", \"MOST_SEVERE_INJURY\",\n",
    "    \"CRASH_TYPE\", \"FIRST_CRASH_TYPE\", \"POSTED_SPEED_LIMIT\",\n",
    "    \"TRAFFIC_CONTROL_DEVICE\", \"DEVICE_CONDITION\", \"WEATHER_CONDITION\",\n",
    "    \"LIGHTING_CONDITION\", \"ROADWAY_SURFACE_COND\", \"PRIM_CONTRIBUTORY_CAUSE\",\n",
    "    \"SEC_CONTRIBUTORY_CAUSE\", \"CRASH_HOUR\", \"CRASH_DAY_OF_WEEK\", \"CRASH_MONTH\",\n",
    "    \"VEHICLE_TYPE\", \"MANEUVER\"\n",
    "]\n",
    "\n",
    "# Filter the full DataFrame to only include selected columns\n",
    "model_df = final_df.select(*selected_columns)\n",
    "\n",
    "# Preview it\n",
    "model_df.show(5)"
   ]
  },
  {
   "cell_type": "markdown",
   "metadata": {
    "application/vnd.databricks.v1+cell": {
     "cellMetadata": {
      "byteLimit": 2048000,
      "rowLimit": 10000
     },
     "inputWidgets": {},
     "nuid": "36cd9d13-c77c-4fb4-bedd-69fc3c197f0d",
     "showTitle": false,
     "tableResultSettingsMap": {},
     "title": ""
    }
   },
   "source": [
    "# Phase 4: Final EDA & Modeling Direction"
   ]
  },
  {
   "cell_type": "markdown",
   "metadata": {
    "application/vnd.databricks.v1+cell": {
     "cellMetadata": {
      "byteLimit": 2048000,
      "rowLimit": 10000
     },
     "inputWidgets": {},
     "nuid": "a7c0e503-ffb4-4dfb-bfb7-11f42d81fd7f",
     "showTitle": false,
     "tableResultSettingsMap": {},
     "title": ""
    }
   },
   "source": [
    "## Step 1: Quick Class Distribution of MOST_SEVERE_INJURY"
   ]
  },
  {
   "cell_type": "code",
   "execution_count": 0,
   "metadata": {
    "application/vnd.databricks.v1+cell": {
     "cellMetadata": {
      "byteLimit": 2048000,
      "rowLimit": 10000
     },
     "inputWidgets": {},
     "nuid": "904de146-4f58-46d2-8d69-fea77e277e3e",
     "showTitle": false,
     "tableResultSettingsMap": {},
     "title": ""
    }
   },
   "outputs": [
    {
     "output_type": "stream",
     "name": "stdout",
     "output_type": "stream",
     "text": [
      "+------------------------+-------+\n|MOST_SEVERE_INJURY      |count  |\n+------------------------+-------+\n|NO INDICATION OF INJURY |1917413|\n|NONINCAPACITATING INJURY|214930 |\n|REPORTED, NOT EVIDENT   |124303 |\n|INCAPACITATING INJURY   |45339  |\n|NULL                    |3439   |\n|FATAL                   |3153   |\n+------------------------+-------+\n\n"
     ]
    }
   ],
   "source": [
    "model_df.groupBy(\"MOST_SEVERE_INJURY\").count().orderBy(\"count\", ascending=False).show(truncate=False)"
   ]
  },
  {
   "cell_type": "markdown",
   "metadata": {
    "application/vnd.databricks.v1+cell": {
     "cellMetadata": {},
     "inputWidgets": {},
     "nuid": "69e5ab47-7b4e-47df-84fa-c12c04548fbb",
     "showTitle": false,
     "tableResultSettingsMap": {},
     "title": ""
    }
   },
   "source": [
    "### Interpretation of the results\n",
    "\n",
    "---\n",
    "\n",
    "### Step 1: MOST_SEVERE_INJURY Class Distribution\n",
    "\n",
    "| Class                     | Count     | % of Total  |\n",
    "|----------------------------|-----------|-------------|\n",
    "| **NO INDICATION OF INJURY** | 1,917,413 | ~83%        |\n",
    "| **NONINCAPACITATING INJURY** | 214,930  | ~9%         |\n",
    "| **REPORTED, NOT EVIDENT**   | 124,303   | ~5%         |\n",
    "| **INCAPACITATING INJURY**   | 45,339    | ~2%         |\n",
    "| **FATAL**                   | 3,153     | ~0.13%      |\n",
    "| **NULL (missing values)**   | 3,439     | ~0.15%      |\n",
    "\n",
    "---\n",
    "\n",
    "### ✅ Key Observations:\n",
    "\n",
    "- Strong class imbalance: Most records (~83%) are **\"No Injury.\"**\n",
    "- Fatal injuries are extremely rare (~0.13%).\n",
    "- Missing labels (NULL) are small (~0.15%) → **We can drop these rows safely.**\n"
   ]
  },
  {
   "cell_type": "markdown",
   "metadata": {
    "application/vnd.databricks.v1+cell": {
     "cellMetadata": {},
     "inputWidgets": {},
     "nuid": "0cd4a5fb-808a-423d-8c9d-efe0dc63004a",
     "showTitle": false,
     "tableResultSettingsMap": {},
     "title": ""
    }
   },
   "source": [
    "## Step 2: Distribution of INJURIES_TOTAL"
   ]
  },
  {
   "cell_type": "code",
   "execution_count": 0,
   "metadata": {
    "application/vnd.databricks.v1+cell": {
     "cellMetadata": {
      "byteLimit": 2048000,
      "rowLimit": 10000
     },
     "inputWidgets": {},
     "nuid": "f307fa34-0b43-4d8d-88cb-1269e7434db0",
     "showTitle": false,
     "tableResultSettingsMap": {},
     "title": ""
    }
   },
   "outputs": [
    {
     "output_type": "stream",
     "name": "stdout",
     "output_type": "stream",
     "text": [
      "+-------+------------------+\n|summary|    INJURIES_TOTAL|\n+-------+------------------+\n|  count|           2305165|\n|   mean|0.2680302711519566|\n| stddev|0.7659568492303127|\n|    min|                 0|\n|    max|                21|\n+-------+------------------+\n\nMedian: 0.0, 90th percentile: 1.0, 99th percentile: 21.0\n"
     ]
    }
   ],
   "source": [
    "# Descriptive stats\n",
    "model_df.select(\"INJURIES_TOTAL\").describe().show()\n",
    "\n",
    "# Quantile breakdown\n",
    "quantiles = model_df.approxQuantile(\"INJURIES_TOTAL\", [0.5, 0.9, 0.99], 0.01)\n",
    "print(f\"Median: {quantiles[0]}, 90th percentile: {quantiles[1]}, 99th percentile: {quantiles[2]}\")"
   ]
  },
  {
   "cell_type": "markdown",
   "metadata": {
    "application/vnd.databricks.v1+cell": {
     "cellMetadata": {},
     "inputWidgets": {},
     "nuid": "9a72de19-dc47-4a72-809d-502b70a777ca",
     "showTitle": false,
     "tableResultSettingsMap": {},
     "title": ""
    }
   },
   "source": [
    "### Interpretation of the results\n",
    "\n",
    "---\n",
    "\n",
    "### INJURIES_TOTAL Distribution\n",
    "\n",
    "| Metric             | Value  |\n",
    "|--------------------|--------|\n",
    "| **Mean**           | ~0.27  |\n",
    "| **Median**         | 0.0    |\n",
    "| **90th Percentile** | 1.0    |\n",
    "| **99th Percentile** | 21.0   |\n",
    "\n",
    "---\n",
    "\n",
    "### ✅ Key Observations:\n",
    "\n",
    "- **Highly skewed:** Most crashes have zero injuries.\n",
    "- **Rare but extreme cases:** Some crashes involve up to 21 people injured.\n",
    "- **Modeling impact:** If you model **INJURIES_TOTAL**, it will be highly imbalanced, and simple linear regression might perform poorly without transformation or special techniques."
   ]
  },
  {
   "cell_type": "markdown",
   "metadata": {
    "application/vnd.databricks.v1+cell": {
     "cellMetadata": {},
     "inputWidgets": {},
     "nuid": "0e4cf48d-64da-4dbc-915c-5314d678ae2d",
     "showTitle": false,
     "tableResultSettingsMap": {},
     "title": ""
    }
   },
   "source": [
    "## Step 3: Save Trimmed Modeling Dataset"
   ]
  },
  {
   "cell_type": "code",
   "execution_count": 0,
   "metadata": {
    "application/vnd.databricks.v1+cell": {
     "cellMetadata": {
      "byteLimit": 2048000,
      "rowLimit": 10000
     },
     "inputWidgets": {},
     "nuid": "421a391d-a399-42d6-a708-3014fa9c855a",
     "showTitle": false,
     "tableResultSettingsMap": {},
     "title": ""
    }
   },
   "outputs": [
    {
     "output_type": "stream",
     "name": "stdout",
     "output_type": "stream",
     "text": [
      "✅ Saved trimmed modeling dataset as Parquet.\n"
     ]
    }
   ],
   "source": [
    "model_df.write.mode(\"overwrite\").parquet(\"/FileStore/Final Project Data/final_model_df.parquet\")\n",
    "print(\"✅ Saved trimmed modeling dataset as Parquet.\")"
   ]
  },
  {
   "cell_type": "markdown",
   "metadata": {
    "application/vnd.databricks.v1+cell": {
     "cellMetadata": {},
     "inputWidgets": {},
     "nuid": "ccbf2971-9159-419a-8cd9-8622bae17e55",
     "showTitle": false,
     "tableResultSettingsMap": {},
     "title": ""
    }
   },
   "source": [
    "## Step 4: Modeling Direction Summary\n",
    "\n",
    "### 🎯 Research Question\n",
    "\n",
    "Can we predict the most severe injury outcome of a traffic crash based on crash conditions, vehicle types, roadway environment, and crash time?\n",
    "\n",
    "---\n",
    "\n",
    "### 📋 Modeling Pathways\n",
    "\n",
    "| Direction                         | Target Variable       | Method                                              | Rationale                                                                 |\n",
    "|-----------------------------------|------------------------|-----------------------------------------------------|--------------------------------------------------------------------------|\n",
    "| ✅ **Multi-class Classification (Preferred)** | MOST_SEVERE_INJURY    | Logistic Regression, Decision Tree, Random Forest, GBTClassifier | Classes are well-defined; manageable imbalance after slight adjustments; strong interpretability |\n",
    "| 🔵 **Binary Classification (Secondary Option)** | INJURIES_FATAL (Fatal vs Non-Fatal) | Logistic Regression, Tree models | Predicting fatal crashes is important but requires rebalancing techniques |\n",
    "| 🔴 **Regression (Not Preferred)** | INJURIES_TOTAL         | Linear Regression, GBT Regression                   | Highly skewed, would require heavy transformation (not ideal for current project scope) |\n",
    "\n",
    "---\n",
    "\n",
    "### 📌 Final Recommendation\n",
    "\n",
    "- Proceed with **Multi-Class Classification** on **MOST_SEVERE_INJURY**.\n",
    "- Drop rows where **MOST_SEVERE_INJURY** is **NULL**.\n",
    "- (Optional) Combine rare classes (e.g., **FATAL** + **INCAPACITATING** → **SEVERE_INJURY**) if we want a simpler 3-class setup:\n",
    "  - **No Injury**\n",
    "  - **Minor Injury**\n",
    "  - **Severe Injury**\n",
    "\n",
    "---\n",
    "\n",
    "### 📋 Final Selected Models\n",
    "\n",
    "| Model                     | Reason                                                         |\n",
    "|----------------------------|----------------------------------------------------------------|\n",
    "| **Logistic Regression**    | Baseline performance check                                     |\n",
    "| **Decision Tree Classifier** | Understand simple rules that cause injuries                   |\n",
    "| **Random Forest Classifier** | Boost accuracy and feature understanding                      |\n",
    "| **GBTClassifier**          | High-performance ensemble method                              |\n",
    "\n",
    "---\n",
    "\n",
    "### ✅ Quick Final Code Adjustment for Team\n",
    "\n",
    "Before starting modeling, **drop NULLs** in the target:\n",
    "\n",
    "```python\n",
    "# Drop rows with missing MOST_SEVERE_INJURY\n",
    "model_df_clean = model_df.filter(model_df[\"MOST_SEVERE_INJURY\"].isNotNull())\n"
   ]
  }
 ],
 "metadata": {
  "application/vnd.databricks.v1+notebook": {
   "computePreferences": null,
   "dashboards": [],
   "environmentMetadata": {
    "base_environment": "",
    "environment_version": "1"
   },
   "inputWidgetPreferences": null,
   "language": "python",
   "notebookMetadata": {
    "pythonIndentUnit": 4
   },
   "notebookName": "EDA_Modeling_Direction",
   "widgets": {}
  }
 },
 "nbformat": 4,
 "nbformat_minor": 0
}